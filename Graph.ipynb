{
 "cells": [
  {
   "cell_type": "code",
   "execution_count": 1,
   "metadata": {
    "collapsed": true
   },
   "outputs": [],
   "source": [
    "import pymongo\n",
    "from pymongo import MongoClient\n",
    "from bson.son import SON\n",
    "from bson.objectid import ObjectId\n",
    "import rdflib"
   ]
  },
  {
   "cell_type": "code",
   "execution_count": 2,
   "metadata": {
    "collapsed": true
   },
   "outputs": [],
   "source": [
    "client = MongoClient()\n",
    "db = client.lobbyradar\n",
    "\n",
    "Entities = db.entities\n",
    "Relations = db.relations\n",
    "\n",
    "person_filter = { 'type' : 'person' }\n",
    "entity_filter = { 'type' : 'entity' }\n",
    "persons = Entities.find(person_filter)\n",
    "entities = Entities.find(entity_filter)"
   ]
  },
  {
   "cell_type": "code",
   "execution_count": 5,
   "metadata": {
    "collapsed": true
   },
   "outputs": [],
   "source": [
    "# executive, ececutive, Vorsitzender\n",
    "directors_board_members = ['Aufsichtsratsmitglied'', ''Board of Directors'', ''Mitglied des Aufsichtsrats'', ''Mitglied im Aufsichtsrat'', ''Lenkungsgruppe'', ''Mitglied des Aufsichtsrates'', ''Anteilseignervertreter'', ''Stellvertretender Vorstandsvorsitzender des Aufsichtsrats']\n",
    "management_board_members = ['Vorstandsmitglied'', ''Mitglied des Vorstands']\n",
    "presidial_board_members = ['Präsidialmitglied', 'Mitglied des Präsidiums', 'Präsidiumsmitglied']\n",
    "chairmen_of_management = ['Vorstandsvorsitz', 'Vorstandsvorsitzender', 'Vorsitzender des Vorstands']\n",
    "management_members = ['Vorstand']\n",
    "chairmen_of_directors_board = ['Aufsichtsratsvorsitz', 'Vorsitzender des Aufsichtsrats']\n",
    "foundation_board_members = ['Mitglied des Stiftungsrats', 'Stiftungsrat']\n",
    "directors = ['Geschäftsführer', 'Hauptgeschäftsführer', 'CEO', 'Geschäftsführender Vorstand', 'Geschäftsführender Gesellschafter', 'Direktor']\n",
    "presidents = ['Präsident', 'Vorsitz', 'Vorsitzender', 'Präsidentin']\n",
    "trustees_board_members = ['Mitglied des Kuratoriums']\n",
    "advidory_board_members = ['Mitglied im Beirat', 'Mitglied des Beirats', 'Beisitzer des Beirats']\n",
    "vice_presidents = ['Stellvertretender Vorsitz', 'Vize-Präsident', 'Vizepräsident']\n",
    "other_executive_members = ['Mitglied des Verwaltungsrats']"
   ]
  },
  {
   "cell_type": "code",
   "execution_count": 6,
   "metadata": {
    "collapsed": true
   },
   "outputs": [],
   "source": [
    "# member, activity, position\n",
    "ordinary_members = ['Ordentliches Mitglied']\n",
    "representative_members = ['Stellvertretendes Mitglied']\n",
    "chairmen = ['Obmann']\n",
    "chairwomen = ['Obfrau']\n",
    "alliance_members = ['Mitglied im Verband']\n",
    "honorary_members = ['Ehrenmitglied']"
   ]
  },
  {
   "cell_type": "code",
   "execution_count": null,
   "metadata": {
    "collapsed": true
   },
   "outputs": [],
   "source": [
    "# government, Bundesdatenschutzbeauftragte\n",
    "ministers = ['Staatsminister', 'Staatsministerin', 'Bundesminister für Umwelt, Naturschutz und Reaktorsicherheit', 'Bundesministerin für Familie, Senioren, Frauen und Jugend', 'Bundesminister für Wirtschaft und Technologie', 'Minister für Inneres und Kommunales', 'Minister für Inneres und Sport', 'Bundesminister für Ernährung, Landwirtschaft und Verbraucherschutz', 'Bundesministerin für Bildung, Wissenschaft, Forschung und Technologie', 'Bundesminister für besondere Aufgaben', 'Bundesminister für Arbeit und Soziales', 'Bundesminister des Auswärtigen', 'Bundesminister des Inneren', 'Minister für Umwelt und Verbraucherschutz', 'Bundesminister für Verbraucherschutz', 'Ernährung und Landwirtschaft', 'Minister der Justiz und für Verbraucherschutz', 'Bundesminister für Verkehr, Bau und Stadtentwicklung', 'Staatsrätin für Bundesangelegenheiten, Europa und Integration', 'Ministerin für Arbeit, Gleichstellung und Soziales', 'Minister für Energie, Infrastruktur und Landesentwicklung', 'Ministerin für Kultus', 'Ministerin für Schule und Berufsbildung', 'Senator für Inneres und Sport', 'Ministerin für Bildung, Wissenschaft, Weiterbildung und Kultur', 'Minister für Wirtschaft, Arbeit und Verkehr', 'Ministerin für Arbeit, Soziales, Gesundheit, Frauen und Familie']\n",
    "secretaries_of_states = ['Staatssekretär', 'Parlamentarischer Staatssekretär', 'Parlamentarische Staatssekretärin', 'Staatssekretärin']\n",
    "privy_counselors = ['Staatsrat', 'Staatsrätin']\n",
    "prime_ministers = ['Ministerpräsident', 'Ministerpräsidentin']\n",
    "heads_of_state_chancellery = ['Chef der Staatskanzlei']\n",
    "representatives_of_federal_chancellor = ['Stellvertreter der Bundeskanzlerin']\n",
    "ministers_of_defense = ['Bundesminister der Verteidigung']\n",
    "representatives_of_prime_minister = ['Stellvertretender Ministerpräsident', 'Stellvertreter des Ministerpräsidenten', 'Stellvertretende Ministerpräsidentin']\n",
    "finance_ministers = ['Bundesminister der Finanzen', 'Finanzminister', 'Minister der Finanzen ']\n",
    "justice_ministers = ['Minister der Justiz', 'Bundesministerin der Justiz', 'Justizministerin']"
   ]
  },
  {
   "cell_type": "code",
   "execution_count": null,
   "metadata": {
    "collapsed": true
   },
   "outputs": [],
   "source": [
    "import rdflib\n",
    "from rdflib import Graph, Literal, BNode, Namespace, RDF, URIRef\n",
    "from rdflib.namespace import DC, FOAF, SKOS\n",
    "ORG = Namespace(\"http://www.w3.org/ns/org#\")\n",
    "OWN = Namespace(\"http://example.com/\")\n",
    "\n",
    "# The Graph\n",
    "g = Graph()\n",
    "g.bind(\"dc\", DC)\n",
    "g.bind(\"foaf\", FOAF)\n",
    "g.bind(\"org\", ORG)\n",
    "g.bind(\"skos\", SKOS)\n",
    "\n",
    "g.parse('ontology.ttl', format='turtle')\n",
    "\n",
    "for entity in Entities.find({}):\n",
    "    node = BNode()\n",
    "    # DC\n",
    "    g.add((node, DC.identifier, Literal(entity[\"_id\"])))\n",
    "    g.add((node, DC.created, Literal(entity[\"created\"])))\n",
    "    g.add((node, DC.modified, Literal(entity[\"updated\"])))\n",
    "    # RDF\n",
    "    if entity['type'] == 'person':\n",
    "        g.add((node, RDF.type, FOAF.Person))\n",
    "        g.add((node, FOAF.name, Literal(entity[\"name\"])))\n",
    "\n",
    "    elif entity['type'] == 'entity':\n",
    "        g.add((node, RDF.type, ORG.Organization))\n",
    "        g.add((node, SKOS.prefLabel, Literal(entity[\"name\"])))\n",
    "        for alias in entity[\"aliases\"]:\n",
    "            g.add((node, SKOS.altLabel, Literal(alias)))\n",
    "    # FOAF\n",
    "    for tag in entity['tags']:\n",
    "        g.add((node, FOAF.topic_intest, Literal(tag)))"
   ]
  },
  {
   "cell_type": "code",
   "execution_count": null,
   "metadata": {
    "collapsed": true
   },
   "outputs": [],
   "source": []
  }
 ],
 "metadata": {
  "kernelspec": {
   "display_name": "Python 2",
   "language": "python",
   "name": "python2"
  },
  "language_info": {
   "codemirror_mode": {
    "name": "ipython",
    "version": 2
   },
   "file_extension": ".py",
   "mimetype": "text/x-python",
   "name": "python",
   "nbconvert_exporter": "python",
   "pygments_lexer": "ipython2",
   "version": "2.7.10"
  }
 },
 "nbformat": 4,
 "nbformat_minor": 0
}
