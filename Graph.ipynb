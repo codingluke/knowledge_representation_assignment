{
 "cells": [
  {
   "cell_type": "markdown",
   "metadata": {},
   "source": [
    "# Programmcode von Lobbyradar\n",
    "\n",
    "Das Programm ist auch als .py-Datei im Ordner vorhanden um ohne ipython verwendet zu werden. Eine Verwendung davon ist im Notebook \"BenutzungLobbyRadar\" zu finden."
   ]
  },
  {
   "cell_type": "code",
   "execution_count": null,
   "metadata": {
    "collapsed": true
   },
   "outputs": [],
   "source": [
    "import pymongo\n",
    "from pymongo import MongoClient\n",
    "from bson.son import SON\n",
    "from bson.objectid import ObjectId\n",
    "import rdflib\n",
    "import networkx as nx\n",
    "import matplotlib.pyplot as plt\n",
    "%matplotlib inline"
   ]
  },
  {
   "cell_type": "code",
   "execution_count": 2,
   "metadata": {
    "collapsed": true
   },
   "outputs": [],
   "source": [
    "client = MongoClient()\n",
    "db = client.lobbyradar\n",
    "\n",
    "Entities = db.entities\n",
    "Relations = db.relations\n",
    "\n",
    "person_filter = { 'type' : 'person' }\n",
    "entity_filter = { 'type' : 'entity' }\n",
    "persons = Entities.find(person_filter)\n",
    "entities = Entities.find(entity_filter)"
   ]
  },
  {
   "cell_type": "code",
   "execution_count": 3,
   "metadata": {
    "collapsed": true
   },
   "outputs": [],
   "source": [
    "# executive, ececutive, Vorsitzender\n",
    "directors_board_members = ['Aufsichtsratsmitglied', 'Board of Directors', 'Mitglied des Aufsichtsrats', 'Mitglied im Aufsichtsrat', 'Lenkungsgruppe', 'Mitglied des Aufsichtsrates', 'Anteilseignervertreter', 'Stellvertretender Vorstandsvorsitzender des Aufsichtsrats']\n",
    "management_board_members = ['Vorstandsmitglied', 'Mitglied des Vorstands']\n",
    "presidial_board_members = ['Präsidialmitglied', 'Mitglied des Präsidiums', 'Präsidiumsmitglied']\n",
    "chairmen_of_management = ['Vorstandsvorsitz', 'Vorstandsvorsitzender', 'Vorsitzender des Vorstands']\n",
    "management_members = ['Vorstand']\n",
    "chairmen_of_directors_board = ['Aufsichtsratsvorsitz', 'Vorsitzender des Aufsichtsrats']\n",
    "foundation_board_members = ['Mitglied des Stiftungsrats', 'Stiftungsrat']\n",
    "directors = ['Geschäftsführer', 'Hauptgeschäftsführer', 'CEO', 'Geschäftsführender Vorstand', 'Geschäftsführender Gesellschafter', 'Direktor']\n",
    "presidents = ['Präsident', 'Vorsitz', 'Vorsitzender', 'Präsidentin']\n",
    "trustees_board_members = ['Mitglied des Kuratoriums']\n",
    "advidory_board_members = ['Mitglied im Beirat', 'Mitglied des Beirats', 'Beisitzer des Beirats']\n",
    "vice_presidents = ['Stellvertretender Vorsitz', 'Vize-Präsident', 'Vizepräsident']\n",
    "administration_board_members = ['Mitglied des Verwaltungsrats']"
   ]
  },
  {
   "cell_type": "code",
   "execution_count": 4,
   "metadata": {
    "collapsed": true
   },
   "outputs": [],
   "source": [
    "# member, activity, position\n",
    "ordinary_members = ['Ordentliches Mitglied']\n",
    "representative_members = ['Stellvertretendes Mitglied']\n",
    "chairmen = ['Obmann']\n",
    "chairwomen = ['Obfrau']\n",
    "alliance_members = ['Mitglied im Verband']\n",
    "honorary_members = ['Ehrenmitglied']"
   ]
  },
  {
   "cell_type": "code",
   "execution_count": 5,
   "metadata": {
    "collapsed": true
   },
   "outputs": [],
   "source": [
    "# government, Bundesdatenschutzbeauftragte\n",
    "ministers = ['Staatsminister', 'Staatsministerin', 'Bundesminister für Umwelt, Naturschutz und Reaktorsicherheit', 'Bundesministerin für Familie, Senioren, Frauen und Jugend', 'Bundesminister für Wirtschaft und Technologie', 'Minister für Inneres und Kommunales', 'Minister für Inneres und Sport', 'Bundesminister für Ernährung, Landwirtschaft und Verbraucherschutz', 'Bundesministerin für Bildung, Wissenschaft, Forschung und Technologie', 'Bundesminister für besondere Aufgaben', 'Bundesminister für Arbeit und Soziales', 'Bundesminister des Auswärtigen', 'Bundesminister des Inneren', 'Minister für Umwelt und Verbraucherschutz', 'Bundesminister für Verbraucherschutz', 'Ernährung und Landwirtschaft', 'Minister der Justiz und für Verbraucherschutz', 'Bundesminister für Verkehr, Bau und Stadtentwicklung', 'Staatsrätin für Bundesangelegenheiten, Europa und Integration', 'Ministerin für Arbeit, Gleichstellung und Soziales', 'Minister für Energie, Infrastruktur und Landesentwicklung', 'Ministerin für Kultus', 'Ministerin für Schule und Berufsbildung', 'Senator für Inneres und Sport', 'Ministerin für Bildung, Wissenschaft, Weiterbildung und Kultur', 'Minister für Wirtschaft, Arbeit und Verkehr', 'Ministerin für Arbeit, Soziales, Gesundheit, Frauen und Familie']\n",
    "secretaries_of_states = ['Staatssekretär', 'Parlamentarischer Staatssekretär', 'Parlamentarische Staatssekretärin', 'Staatssekretärin']\n",
    "privy_counselors = ['Staatsrat', 'Staatsrätin']\n",
    "prime_ministers = ['Ministerpräsident', 'Ministerpräsidentin']\n",
    "heads_of_state_chancellery = ['Chef der Staatskanzlei']\n",
    "representatives_of_federal_chancellor = ['Stellvertreter der Bundeskanzlerin']\n",
    "ministers_of_defense = ['Bundesminister der Verteidigung']\n",
    "representatives_of_prime_minister = ['Stellvertretender Ministerpräsident', 'Stellvertreter des Ministerpräsidenten', 'Stellvertretende Ministerpräsidentin']\n",
    "finance_ministers = ['Bundesminister der Finanzen', 'Finanzminister', 'Minister der Finanzen ']\n",
    "justice_ministers = ['Minister der Justiz', 'Bundesministerin der Justiz', 'Justizministerin']"
   ]
  },
  {
   "cell_type": "code",
   "execution_count": 6,
   "metadata": {
    "collapsed": false
   },
   "outputs": [],
   "source": [
    "import rdflib\n",
    "from rdflib import Graph, Literal, BNode, Namespace, RDF, URIRef\n",
    "from rdflib.namespace import DC, FOAF, SKOS\n",
    "ORG = Namespace(\"http://www.w3.org/ns/org#\")\n",
    "OWN = Namespace(\"http://example.org/\")\n",
    "\n",
    "# The Graph\n",
    "g = Graph()\n",
    "g.bind(\"dc\", DC)\n",
    "g.bind(\"foaf\", FOAF)\n",
    "g.bind(\"org\", ORG)\n",
    "g.bind(\"skos\", SKOS)\n",
    "g.bind(\"own\", OWN)\n",
    "\n",
    "g.parse('ontology.ttl', format='turtle')\n",
    "\n",
    "for entity in Entities.find({}):\n",
    "    node = BNode()\n",
    "    # DC\n",
    "    g.add((node, DC.identifier, Literal(entity[\"_id\"])))\n",
    "    g.add((node, DC.created, Literal(entity[\"created\"])))\n",
    "    g.add((node, DC.modified, Literal(entity[\"updated\"])))\n",
    "    \n",
    "    # RDF\n",
    "    if entity['type'] == 'person':\n",
    "        g.add((node, RDF.type, FOAF.Person))\n",
    "        g.add((node, FOAF.name, Literal(entity[\"name\"])))\n",
    "\n",
    "    elif entity['type'] == 'entity':\n",
    "        g.add((node, RDF.type, ORG.Organization))\n",
    "        g.add((node, SKOS.prefLabel, Literal(entity[\"name\"])))\n",
    "        for alias in entity[\"aliases\"]:\n",
    "            g.add((node, SKOS.altLabel, Literal(alias)))\n",
    "            \n",
    "    # FOAF\n",
    "    for tag in entity['tags']:\n",
    "        g.add((node, FOAF.topic_intest, Literal(tag)))"
   ]
  },
  {
   "cell_type": "code",
   "execution_count": 7,
   "metadata": {
    "collapsed": false
   },
   "outputs": [],
   "source": [
    "# Add executive relations\n",
    "for rel in Relations.find({ 'type' : { '$in' : ['executive', 'ececutive', 'Vorsitzender'] }}):\n",
    "    pos = [ attr['value'] for attr in rel['data'] if attr['key'] == 'position' ]\n",
    "    pos = pos[0].encode('utf-8') if pos else ''.encode('utf-8')\n",
    "    dest_node = g.value(predicate=DC.identifier, object=Literal(str(rel['entities'][0])))\n",
    "    target_node = g.value(predicate=DC.identifier, object=Literal(str(rel['entities'][1])))\n",
    "    \n",
    "    if dest_node and target_node:\n",
    "        # dest and target must be here\n",
    "        dest_type = g.value(subject=dest_node, predicate=RDF.type)\n",
    "        target_type = g.value(subject=target_node, predicate=RDF.type)\n",
    "        \n",
    "        if dest_type != target_type:\n",
    "            # dest and target can not have the same tye\n",
    "            if (dest_type == ORG.Organization) and (target_type == FOAF.Person):\n",
    "                # the subject must be the person\n",
    "                dest_node, target_node = target_node, dest_node\n",
    "\n",
    "            if pos in directors_board_members:\n",
    "                g.add((dest_node, OWN.isDirectorsBoardMemberOf, target_node))\n",
    "            elif pos in management_board_members:\n",
    "                g.add((dest_node, OWN.isManagementBoardMemberOf, target_node))\n",
    "            elif pos in presidial_board_members:\n",
    "                g.add((dest_node, OWN.isPresidialBoardMemberOf, target_node))\n",
    "            elif pos in chairmen_of_management:\n",
    "                g.add((dest_node, OWN.isChairmenOfManagement, target_node))\n",
    "            elif pos in management_members:\n",
    "                g.add((dest_node, OWN.isManagementMember, target_node))\n",
    "            elif pos in chairmen_of_directors_board:\n",
    "                g.add((dest_node, OWN.isChairmanOfDirectorsBoardOf, target_node))\n",
    "            elif pos in foundation_board_members:\n",
    "                g.add((dest_node, OWN.isFoundationBoardMemberOf, target_node))\n",
    "            elif pos in directors:\n",
    "                g.add((dest_node, OWN.isDirectorOf, target_node))\n",
    "            elif pos in presidents:\n",
    "                g.add((dest_node, OWN.isPresidentOf, target_node))\n",
    "            elif pos in trustees_board_members:\n",
    "                g.add((dest_node, OWN.isTrusteesBoardMemberOf, target_node))\n",
    "            elif pos in advidory_board_members:\n",
    "                g.add((dest_node, OWN.isAdvisoryBoardMemberOf, target_node))\n",
    "            elif pos in vice_presidents:\n",
    "                g.add((dest_node, OWN.isVicePresidentOf, target_node))\n",
    "            elif pos in administration_board_members:\n",
    "                g.add((dest_node, OWN.isAdministrationBoardMemberOf, target_node))\n",
    "            else:\n",
    "                g.add((dest_node, OWN.isOtherExecutiveOf, target_node))"
   ]
  },
  {
   "cell_type": "code",
   "execution_count": 8,
   "metadata": {
    "collapsed": false
   },
   "outputs": [],
   "source": [
    "# Add member relations\n",
    "for rel in Relations.find({ 'type' : { '$in' : ['member', 'activity', 'position'] }}):\n",
    "    pos = [ attr['value'] for attr in rel['data'] if attr['key'] == 'position' ]\n",
    "    pos = pos[0].encode('utf-8') if pos else ''.encode('utf-8')\n",
    "    if len(rel['entities']) == 2:\n",
    "        dest_node = g.value(predicate=DC.identifier, object=Literal(str(rel['entities'][0])))\n",
    "        target_node = g.value(predicate=DC.identifier, object=Literal(str(rel['entities'][1])))\n",
    "\n",
    "        if dest_node and target_node:\n",
    "            # dest and target must be here\n",
    "            dest_type = g.value(subject=dest_node, predicate=RDF.type)\n",
    "            target_type = g.value(subject=target_node, predicate=RDF.type)\n",
    "\n",
    "            if dest_type != target_type:\n",
    "                # dest and target can not have the same tye\n",
    "                if (dest_type == ORG.Organization) and (target_type == FOAF.Person):\n",
    "                    # the subject must be the person\n",
    "                    dest_node, target_node = target_node, dest_node\n",
    "\n",
    "                if pos in ordinary_members:\n",
    "                    g.add((dest_node, OWN.isOrdinaryMemberOf, target_node))\n",
    "                elif pos in representative_members:\n",
    "                    g.add((dest_node, OWN.isRepresentativeMemberOf, target_node))\n",
    "                elif pos in chairmen:\n",
    "                    g.add((dest_node, OWN.isChairmanOf, target_node))\n",
    "                elif pos in chairwomen:\n",
    "                    g.add((dest_node, OWN.isChairwomanOf, target_node))\n",
    "                elif pos in alliance_members:\n",
    "                    g.add((dest_node, OWN.isAllianceMemberOf, target_node))\n",
    "                elif pos in honorary_members:\n",
    "                    g.add((dest_node, OWN.isHonoraryMemberOf, target_node))\n",
    "                else:\n",
    "                    g.add((dest_node, OWN.isOtherMemberOf, target_node))"
   ]
  },
  {
   "cell_type": "code",
   "execution_count": 9,
   "metadata": {
    "collapsed": false
   },
   "outputs": [],
   "source": [
    "# Add government relations\n",
    "for rel in Relations.find({ 'type' : { '$in' : ['government', 'Bundesdatenschutzbeauftragte'] }}):\n",
    "    pos = [ attr['value'] for attr in rel['data'] if attr['key'] == 'position' ]\n",
    "    pos = pos[0].encode('utf-8') if pos else ''.encode('utf-8')\n",
    "    if len(rel['entities']) == 2:\n",
    "        dest_node = g.value(predicate=DC.identifier, object=Literal(str(rel['entities'][0])))\n",
    "        target_node = g.value(predicate=DC.identifier, object=Literal(str(rel['entities'][1])))\n",
    "    \n",
    "    if dest_node and target_node:\n",
    "            # dest and target must be here\n",
    "            dest_type = g.value(subject=dest_node, predicate=RDF.type)\n",
    "            target_type = g.value(subject=target_node, predicate=RDF.type)\n",
    "\n",
    "            if dest_type != target_type:\n",
    "                # dest and target can not have the same tye\n",
    "                if (dest_type == ORG.Organization) and (target_type == FOAF.Person):\n",
    "                    # the subject must be the person\n",
    "                    dest_node, target_node = target_node, dest_node\n",
    "                # target organisation must be a governmental organisation\n",
    "                g.add((target_node, RDF.type, OWN.Government)) \n",
    "                \n",
    "                if pos in secretaries_of_states:\n",
    "                    g.add((dest_node, OWN.isSecretaryOfStateOf, target_node))   \n",
    "                elif pos in privy_counselors:\n",
    "                    g.add((dest_node, OWN.isPrivyCouncilorOf, target_node))\n",
    "                elif pos in ministers:\n",
    "                    g.add((dest_node, OWN.isMinisterOf, target_node))\n",
    "                elif pos in prime_ministers:\n",
    "                    g.add((dest_node, OWN.isPrimeMinisterOf, target_node))\n",
    "                elif pos in heads_of_state_chancellery:\n",
    "                    g.add((dest_node, OWN.isHeadOfStateChancelleryOf, target_node))\n",
    "                elif pos in representatives_of_federal_chancellor:\n",
    "                    g.add((dest_node, OWN.isRepresentativeOfFederalChancellor, target_node))\n",
    "                elif pos in ministers_of_defense:\n",
    "                    g.add((dest_node, OWN.isMinisterOfDefenseOf, target_node))\n",
    "                elif pos in representatives_of_prime_minister:\n",
    "                    g.add((dest_node, OWN.isRepresentativeOfPrimeMinisterOf, target_node))\n",
    "                elif pos in finance_ministers:\n",
    "                    g.add((dest_node, OWN.isFinanceMinisterOf, target_node))\n",
    "                elif pos in justice_ministers:\n",
    "                    g.add((dest_node, OWN.isJusticeMinisterOf, target_node))\n",
    "                else :\n",
    "                    g.add((dest_node, OWN.isOtherwiseRelatedToGovernment, target_node))"
   ]
  },
  {
   "cell_type": "code",
   "execution_count": 25,
   "metadata": {
    "collapsed": false
   },
   "outputs": [],
   "source": [
    "def search_persons(name=\"\", limit=100):\n",
    "    qres = g.query(\"\"\" \n",
    "    SELECT DISTINCT ?name\n",
    "    WHERE { \n",
    "          ?person rdf:type foaf:Person .\n",
    "          ?person foaf:name ?name .\n",
    "          FILTER(regex(lcase(str(?name)), \\\"\"\"\" + name.lower() + \"\"\"\\\", \"i\"))\n",
    "    }\n",
    "    LIMIT \"\"\" + str(limit))\n",
    "    return [ name[0].toPython() for name in qres ]"
   ]
  },
  {
   "cell_type": "code",
   "execution_count": 11,
   "metadata": {
    "collapsed": true
   },
   "outputs": [],
   "source": [
    "def search_sparql(query):\n",
    "    return g.query(query)"
   ]
  },
  {
   "cell_type": "code",
   "execution_count": 12,
   "metadata": {
    "collapsed": false
   },
   "outputs": [],
   "source": [
    "def search_governmental(name = \"\"):\n",
    "    qres = g.query(\"\"\" \n",
    "    SELECT DISTINCT ?name\n",
    "    WHERE { \n",
    "          ?org rdf:type own:Government .\n",
    "          ?org skos:prefLabel ?name .\n",
    "          FILTER(regex(lcase(str(?name)), \\\"\"\"\" + name.lower() + \"\"\"\\\", \"i\")) .\n",
    "    }\n",
    "    LIMIT 100\n",
    "    \"\"\")\n",
    "    return [ name[0].toPython() for name in qres ]"
   ]
  },
  {
   "cell_type": "code",
   "execution_count": 13,
   "metadata": {
    "collapsed": false
   },
   "outputs": [],
   "source": [
    "def search_organizations(name = \"\"):\n",
    "    qres = g.query(\"\"\" \n",
    "    SELECT DISTINCT ?name\n",
    "    WHERE { \n",
    "          ?org rdf:type org:Organization .\n",
    "          ?org skos:prefLabel ?name .\n",
    "          FILTER(regex(lcase(str(?name)), \\\"\"\"\" + name.lower() + \"\"\"\\\", \"i\")) .\n",
    "    }\n",
    "    LIMIT 100\n",
    "    \"\"\")\n",
    "    return [ name[0].toPython() for name in qres ]"
   ]
  },
  {
   "cell_type": "code",
   "execution_count": 14,
   "metadata": {
    "collapsed": false
   },
   "outputs": [],
   "source": [
    "def person_connections(name):\n",
    "    qres = g.query(\"\"\"\n",
    "    SELECT DISTINCT ?aname ?property ?bname\n",
    "    WHERE {\n",
    "        {\n",
    "            ?p rdfs:isSubPropertyOf own:isMemberOf .\n",
    "            ?property rdfs:isSubPropertyOf ?p .\n",
    "            ?a ?property ?b .\n",
    "            ?a foaf:name ?aname .\n",
    "            ?b skos:prefLabel ?bname . \n",
    "        }\n",
    "        UNION\n",
    "        { \n",
    "            ?property rdfs:isSubPropertyOf own:isMemberOf . \n",
    "            ?a ?property ?b .\n",
    "            ?a foaf:name ?aname .\n",
    "            ?b skos:prefLabel ?bname .\n",
    "        }\n",
    "        FILTER(lcase(str(?aname)) = \\\"\"\"\" + name.lower() + \"\"\"\\\") .\n",
    "    } \n",
    "    LIMIT 100\"\"\")\n",
    "    return [ (row[0].toPython(), row[1].toPython(), row[2].toPython()) for row in qres ]"
   ]
  },
  {
   "cell_type": "code",
   "execution_count": 15,
   "metadata": {
    "collapsed": true
   },
   "outputs": [],
   "source": [
    "def organization_connections(name):\n",
    "    qres = g.query(\"\"\"\n",
    "    SELECT DISTINCT ?aname ?property ?bname\n",
    "    WHERE {\n",
    "        {\n",
    "            ?p rdfs:isSubPropertyOf own:isMemberOf .\n",
    "            ?property rdfs:isSubPropertyOf ?p .\n",
    "            ?a ?property ?b .\n",
    "            ?a foaf:name ?aname .\n",
    "            ?b skos:prefLabel ?bname . \n",
    "        }\n",
    "        UNION\n",
    "        { \n",
    "            ?property rdfs:isSubPropertyOf own:isMemberOf . \n",
    "            ?a ?property ?b .\n",
    "            ?a foaf:name ?aname .\n",
    "            ?b skos:prefLabel ?bname .\n",
    "        }\n",
    "        FILTER(lcase(str(?bname)) = \\\"\"\"\" + name.lower() + \"\"\"\\\") .\n",
    "    } \n",
    "    LIMIT 100\"\"\")\n",
    "    return [ (row[0].toPython(), row[1].toPython(), row[2].toPython()) for row in qres ]"
   ]
  },
  {
   "cell_type": "code",
   "execution_count": 16,
   "metadata": {
    "collapsed": false
   },
   "outputs": [],
   "source": [
    "def plot_tripples(connections_triple, figsize=(20,10)):\n",
    "    \"\"\"Plottet tripples in einem einfachen Graph\"\"\"\n",
    "    G = nx.Graph()\n",
    "    for obj, prt, sub in connections_triple:\n",
    "        G.add_node(obj, typ='obj')\n",
    "        G.add_node(sub, typ='sub')\n",
    "        G.add_edge(obj, sub, label=prt)\n",
    "    colors = [ 'green' if G.node[node]['typ'] == 'obj' else 'red' for node in G.nodes() ]\n",
    "    plt.rcParams['figure.figsize'] = figsize\n",
    "    plt.rcParams['font.family'] = 'sans-serif'\n",
    "    nx.draw_networkx(G, node_color=colors, node_size=1000, linewidths=0, font_size=16)"
   ]
  }
 ],
 "metadata": {
  "kernelspec": {
   "display_name": "Python 2",
   "language": "python",
   "name": "python2"
  },
  "language_info": {
   "codemirror_mode": {
    "name": "ipython",
    "version": 2
   },
   "file_extension": ".py",
   "mimetype": "text/x-python",
   "name": "python",
   "nbconvert_exporter": "python",
   "pygments_lexer": "ipython2",
   "version": "2.7.6"
  }
 },
 "nbformat": 4,
 "nbformat_minor": 0
}
