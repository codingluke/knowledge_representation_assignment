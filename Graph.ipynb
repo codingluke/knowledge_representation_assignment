{
 "cells": [
  {
   "cell_type": "code",
   "execution_count": 1,
   "metadata": {
    "collapsed": true
   },
   "outputs": [],
   "source": [
    "import pymongo\n",
    "from pymongo import MongoClient\n",
    "from bson.son import SON\n",
    "from bson.objectid import ObjectId\n",
    "import rdflib"
   ]
  },
  {
   "cell_type": "code",
   "execution_count": 2,
   "metadata": {
    "collapsed": true
   },
   "outputs": [],
   "source": [
    "client = MongoClient()\n",
    "db = client.lobbyradar\n",
    "\n",
    "Entities = db.entities\n",
    "Relations = db.relations\n",
    "\n",
    "person_filter = { 'type' : 'person' }\n",
    "entity_filter = { 'type' : 'entity' }\n",
    "persons = Entities.find(person_filter)\n",
    "entities = Entities.find(entity_filter)"
   ]
  },
  {
   "cell_type": "code",
   "execution_count": 3,
   "metadata": {
    "collapsed": true
   },
   "outputs": [],
   "source": [
    "# executive, ececutive, Vorsitzender\n",
    "directors_board_members = ['Aufsichtsratsmitglied'', ''Board of Directors'', ''Mitglied des Aufsichtsrats'', ''Mitglied im Aufsichtsrat'', ''Lenkungsgruppe'', ''Mitglied des Aufsichtsrates'', ''Anteilseignervertreter'', ''Stellvertretender Vorstandsvorsitzender des Aufsichtsrats']\n",
    "management_board_members = ['Vorstandsmitglied'', ''Mitglied des Vorstands']\n",
    "presidial_board_members = ['Präsidialmitglied', 'Mitglied des Präsidiums', 'Präsidiumsmitglied']\n",
    "chairmen_of_management = ['Vorstandsvorsitz', 'Vorstandsvorsitzender', 'Vorsitzender des Vorstands']\n",
    "management_members = ['Vorstand']\n",
    "chairmen_of_directors_board = ['Aufsichtsratsvorsitz', 'Vorsitzender des Aufsichtsrats']\n",
    "foundation_board_members = ['Mitglied des Stiftungsrats', 'Stiftungsrat']\n",
    "directors = ['Geschäftsführer', 'Hauptgeschäftsführer', 'CEO', 'Geschäftsführender Vorstand', 'Geschäftsführender Gesellschafter', 'Direktor']\n",
    "presidents = ['Präsident', 'Vorsitz', 'Vorsitzender', 'Präsidentin']\n",
    "trustees_board_members = ['Mitglied des Kuratoriums']\n",
    "advidory_board_members = ['Mitglied im Beirat', 'Mitglied des Beirats', 'Beisitzer des Beirats']\n",
    "vice_presidents = ['Stellvertretender Vorsitz', 'Vize-Präsident', 'Vizepräsident']\n",
    "administration_board_members = ['Mitglied des Verwaltungsrats']"
   ]
  },
  {
   "cell_type": "code",
   "execution_count": 4,
   "metadata": {
    "collapsed": true
   },
   "outputs": [],
   "source": [
    "# member, activity, position\n",
    "ordinary_members = ['Ordentliches Mitglied']\n",
    "representative_members = ['Stellvertretendes Mitglied']\n",
    "chairmen = ['Obmann']\n",
    "chairwomen = ['Obfrau']\n",
    "alliance_members = ['Mitglied im Verband']\n",
    "honorary_members = ['Ehrenmitglied']"
   ]
  },
  {
   "cell_type": "code",
   "execution_count": 5,
   "metadata": {
    "collapsed": true
   },
   "outputs": [],
   "source": [
    "# government, Bundesdatenschutzbeauftragte\n",
    "ministers = ['Staatsminister', 'Staatsministerin', 'Bundesminister für Umwelt, Naturschutz und Reaktorsicherheit', 'Bundesministerin für Familie, Senioren, Frauen und Jugend', 'Bundesminister für Wirtschaft und Technologie', 'Minister für Inneres und Kommunales', 'Minister für Inneres und Sport', 'Bundesminister für Ernährung, Landwirtschaft und Verbraucherschutz', 'Bundesministerin für Bildung, Wissenschaft, Forschung und Technologie', 'Bundesminister für besondere Aufgaben', 'Bundesminister für Arbeit und Soziales', 'Bundesminister des Auswärtigen', 'Bundesminister des Inneren', 'Minister für Umwelt und Verbraucherschutz', 'Bundesminister für Verbraucherschutz', 'Ernährung und Landwirtschaft', 'Minister der Justiz und für Verbraucherschutz', 'Bundesminister für Verkehr, Bau und Stadtentwicklung', 'Staatsrätin für Bundesangelegenheiten, Europa und Integration', 'Ministerin für Arbeit, Gleichstellung und Soziales', 'Minister für Energie, Infrastruktur und Landesentwicklung', 'Ministerin für Kultus', 'Ministerin für Schule und Berufsbildung', 'Senator für Inneres und Sport', 'Ministerin für Bildung, Wissenschaft, Weiterbildung und Kultur', 'Minister für Wirtschaft, Arbeit und Verkehr', 'Ministerin für Arbeit, Soziales, Gesundheit, Frauen und Familie']\n",
    "secretaries_of_states = ['Staatssekretär', 'Parlamentarischer Staatssekretär', 'Parlamentarische Staatssekretärin', 'Staatssekretärin']\n",
    "privy_counselors = ['Staatsrat', 'Staatsrätin']\n",
    "prime_ministers = ['Ministerpräsident', 'Ministerpräsidentin']\n",
    "heads_of_state_chancellery = ['Chef der Staatskanzlei']\n",
    "representatives_of_federal_chancellor = ['Stellvertreter der Bundeskanzlerin']\n",
    "ministers_of_defense = ['Bundesminister der Verteidigung']\n",
    "representatives_of_prime_minister = ['Stellvertretender Ministerpräsident', 'Stellvertreter des Ministerpräsidenten', 'Stellvertretende Ministerpräsidentin']\n",
    "finance_ministers = ['Bundesminister der Finanzen', 'Finanzminister', 'Minister der Finanzen ']\n",
    "justice_ministers = ['Minister der Justiz', 'Bundesministerin der Justiz', 'Justizministerin']"
   ]
  },
  {
   "cell_type": "code",
   "execution_count": 6,
   "metadata": {
    "collapsed": false
   },
   "outputs": [],
   "source": [
    "import rdflib\n",
    "from rdflib import Graph, Literal, BNode, Namespace, RDF, URIRef\n",
    "from rdflib.namespace import DC, FOAF, SKOS\n",
    "ORG = Namespace(\"http://www.w3.org/ns/org#\")\n",
    "OWN = Namespace(\"http://example.com/\")\n",
    "\n",
    "# The Graph\n",
    "g = Graph()\n",
    "g.bind(\"dc\", DC)\n",
    "g.bind(\"foaf\", FOAF)\n",
    "g.bind(\"org\", ORG)\n",
    "g.bind(\"skos\", SKOS)\n",
    "\n",
    "g.parse('ontology.ttl', format='turtle')\n",
    "\n",
    "for entity in Entities.find({}):\n",
    "    node = BNode()\n",
    "    # DC\n",
    "    g.add((node, DC.identifier, Literal(entity[\"_id\"])))\n",
    "    g.add((node, DC.created, Literal(entity[\"created\"])))\n",
    "    g.add((node, DC.modified, Literal(entity[\"updated\"])))\n",
    "    \n",
    "    # RDF\n",
    "    if entity['type'] == 'person':\n",
    "        g.add((node, RDF.type, FOAF.Person))\n",
    "        g.add((node, FOAF.name, Literal(entity[\"name\"])))\n",
    "\n",
    "    elif entity['type'] == 'entity':\n",
    "        g.add((node, RDF.type, ORG.Organization))\n",
    "        g.add((node, SKOS.prefLabel, Literal(entity[\"name\"])))\n",
    "        for alias in entity[\"aliases\"]:\n",
    "            g.add((node, SKOS.altLabel, Literal(alias)))\n",
    "            \n",
    "    # FOAF\n",
    "    for tag in entity['tags']:\n",
    "        g.add((node, FOAF.topic_intest, Literal(tag)))"
   ]
  },
  {
   "cell_type": "code",
   "execution_count": 16,
   "metadata": {
    "collapsed": false
   },
   "outputs": [],
   "source": [
    "# Add executive relations\n",
    "for rel in Relations.find({ 'type' : { '$in' : ['executive', 'ececutive', 'Vorsitzender'] }}):\n",
    "    pos = [ attr['value'] for attr in rel['data'] if attr['key'] == 'position' ]\n",
    "    pos = pos[0].encode('utf-8') if pos else ''.encode('utf-8')\n",
    "    dest_node = g.value(predicate=DC.identifier, object=Literal(str(rel['entities'][0])))\n",
    "    target_node = g.value(predicate=DC.identifier, object=Literal(str(rel['entities'][1])))\n",
    "    \n",
    "    if dest_node and target_node:\n",
    "        if pos in directors_board_members:\n",
    "            g.add((dest_node, OWN.isDirectorsBoardMemberOf, target_node))\n",
    "        elif pos in management_board_members:\n",
    "            g.add((dest_node, OWN.isManagementBoardMemberOf, target_node))\n",
    "        elif pos in presidial_board_members:\n",
    "            g.add((dest_node, OWN.isPresidialBoardMemberOf, target_node))\n",
    "        elif pos in chairmen_of_management:\n",
    "            g.add((dest_node, OWN.isChairmenOfManagement, target_node))\n",
    "        elif pos in management_members:\n",
    "            g.add((dest_node, OWN.isManagementMember, target_node))\n",
    "        elif pos in chairmen_of_directors_board:\n",
    "            g.add((dest_node, OWN.isChairmanOfDirectorsBoardOf, target_node))\n",
    "        elif pos in foundation_board_members:\n",
    "            g.add((dest_node, OWN.isFoundationBoardMemberOf, target_node))\n",
    "        elif pos in directors:\n",
    "            g.add((dest_node, OWN.isDirectorOf, target_node))\n",
    "        elif pos in presidents:\n",
    "            g.add((dest_node, OWN.isPresidentOf, target_node))\n",
    "        elif pos in trustees_board_members:\n",
    "            g.add((dest_node, OWN.isTrusteesBoardMemberOf, target_node))\n",
    "        elif pos in advidory_board_members:\n",
    "            g.add((dest_node, OWN.isAdvisoryBoardMemberOf, target_node))\n",
    "        elif pos in vice_presidents:\n",
    "            g.add((dest_node, OWN.isVicePresidentOf, target_node))\n",
    "        elif pos in administration_board_members:\n",
    "            g.add((dest_node, OWN.isAdministrationBoardMemberOf, target_node))\n",
    "        else:\n",
    "            g.add((dest_node, OWN.isOtherExecutiveOf, target_node))"
   ]
  },
  {
   "cell_type": "code",
   "execution_count": 20,
   "metadata": {
    "collapsed": false
   },
   "outputs": [],
   "source": [
    "admin = [s for s,_,n in g.triples((None, OWN.isVicePresidentOf, None))]"
   ]
  },
  {
   "cell_type": "code",
   "execution_count": 21,
   "metadata": {
    "collapsed": false
   },
   "outputs": [
    {
     "data": {
      "text/plain": [
       "[rdflib.term.BNode('Nfed3b336d7c445738b5d79e8941f9e82'),\n",
       " rdflib.term.BNode('N8b1d9ba685524528bfacda60677b4164'),\n",
       " rdflib.term.BNode('N334e5d3005244eb6b8d4ba2c3f1cdb3b'),\n",
       " rdflib.term.BNode('N1a4917727b324c2e978097abc57c8612'),\n",
       " rdflib.term.BNode('Nfed3b336d7c445738b5d79e8941f9e82'),\n",
       " rdflib.term.BNode('Nfed3b336d7c445738b5d79e8941f9e82'),\n",
       " rdflib.term.BNode('Nfed3b336d7c445738b5d79e8941f9e82'),\n",
       " rdflib.term.BNode('Nbe2b2aafceb941a2954339aed3f7f34c')]"
      ]
     },
     "execution_count": 21,
     "metadata": {},
     "output_type": "execute_result"
    }
   ],
   "source": [
    "admin"
   ]
  },
  {
   "cell_type": "code",
   "execution_count": 47,
   "metadata": {
    "collapsed": false
   },
   "outputs": [
    {
     "data": {
      "text/plain": [
       "rdflib.term.BNode('N4197a9abd0084efea663756abd9a6256')"
      ]
     },
     "execution_count": 47,
     "metadata": {},
     "output_type": "execute_result"
    }
   ],
   "source": [
    "ids"
   ]
  },
  {
   "cell_type": "code",
   "execution_count": null,
   "metadata": {
    "collapsed": true
   },
   "outputs": [],
   "source": []
  }
 ],
 "metadata": {
  "kernelspec": {
   "display_name": "Python 2",
   "language": "python",
   "name": "python2"
  },
  "language_info": {
   "codemirror_mode": {
    "name": "ipython",
    "version": 2
   },
   "file_extension": ".py",
   "mimetype": "text/x-python",
   "name": "python",
   "nbconvert_exporter": "python",
   "pygments_lexer": "ipython2",
   "version": "2.7.6"
  }
 },
 "nbformat": 4,
 "nbformat_minor": 0
}
