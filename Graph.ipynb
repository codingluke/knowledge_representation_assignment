{
 "cells": [
  {
   "cell_type": "code",
   "execution_count": 142,
   "metadata": {
    "collapsed": true
   },
   "outputs": [],
   "source": [
    "import pymongo\n",
    "from pymongo import MongoClient\n",
    "from bson.son import SON\n",
    "from bson.objectid import ObjectId\n",
    "import rdflib\n",
    "from pprint import pprint"
   ]
  },
  {
   "cell_type": "code",
   "execution_count": 143,
   "metadata": {
    "collapsed": true
   },
   "outputs": [],
   "source": [
    "client = MongoClient()\n",
    "db = client.lobbyradar\n",
    "\n",
    "Entities = db.entities\n",
    "Relations = db.relations\n",
    "\n",
    "person_filter = { 'type' : 'person' }\n",
    "entity_filter = { 'type' : 'entity' }\n",
    "persons = Entities.find(person_filter)\n",
    "entities = Entities.find(entity_filter)"
   ]
  },
  {
   "cell_type": "code",
   "execution_count": 144,
   "metadata": {
    "collapsed": true
   },
   "outputs": [],
   "source": [
    "# executive, ececutive, Vorsitzender\n",
    "directors_board_members = ['Aufsichtsratsmitglied', 'Board of Directors', 'Mitglied des Aufsichtsrats', 'Mitglied im Aufsichtsrat', 'Lenkungsgruppe', 'Mitglied des Aufsichtsrates', 'Anteilseignervertreter', 'Stellvertretender Vorstandsvorsitzender des Aufsichtsrats']\n",
    "management_board_members = ['Vorstandsmitglied', 'Mitglied des Vorstands']\n",
    "presidial_board_members = ['Präsidialmitglied', 'Mitglied des Präsidiums', 'Präsidiumsmitglied']\n",
    "chairmen_of_management = ['Vorstandsvorsitz', 'Vorstandsvorsitzender', 'Vorsitzender des Vorstands']\n",
    "management_members = ['Vorstand']\n",
    "chairmen_of_directors_board = ['Aufsichtsratsvorsitz', 'Vorsitzender des Aufsichtsrats']\n",
    "foundation_board_members = ['Mitglied des Stiftungsrats', 'Stiftungsrat']\n",
    "directors = ['Geschäftsführer', 'Hauptgeschäftsführer', 'CEO', 'Geschäftsführender Vorstand', 'Geschäftsführender Gesellschafter', 'Direktor']\n",
    "presidents = ['Präsident', 'Vorsitz', 'Vorsitzender', 'Präsidentin']\n",
    "trustees_board_members = ['Mitglied des Kuratoriums']\n",
    "advidory_board_members = ['Mitglied im Beirat', 'Mitglied des Beirats', 'Beisitzer des Beirats']\n",
    "vice_presidents = ['Stellvertretender Vorsitz', 'Vize-Präsident', 'Vizepräsident']\n",
    "administration_board_members = ['Mitglied des Verwaltungsrats']"
   ]
  },
  {
   "cell_type": "code",
   "execution_count": 145,
   "metadata": {
    "collapsed": true
   },
   "outputs": [],
   "source": [
    "# member, activity, position\n",
    "ordinary_members = ['Ordentliches Mitglied']\n",
    "representative_members = ['Stellvertretendes Mitglied']\n",
    "chairmen = ['Obmann']\n",
    "chairwomen = ['Obfrau']\n",
    "alliance_members = ['Mitglied im Verband']\n",
    "honorary_members = ['Ehrenmitglied']"
   ]
  },
  {
   "cell_type": "code",
   "execution_count": 146,
   "metadata": {
    "collapsed": true
   },
   "outputs": [],
   "source": [
    "# government, Bundesdatenschutzbeauftragte\n",
    "ministers = ['Staatsminister', 'Staatsministerin', 'Bundesminister für Umwelt, Naturschutz und Reaktorsicherheit', 'Bundesministerin für Familie, Senioren, Frauen und Jugend', 'Bundesminister für Wirtschaft und Technologie', 'Minister für Inneres und Kommunales', 'Minister für Inneres und Sport', 'Bundesminister für Ernährung, Landwirtschaft und Verbraucherschutz', 'Bundesministerin für Bildung, Wissenschaft, Forschung und Technologie', 'Bundesminister für besondere Aufgaben', 'Bundesminister für Arbeit und Soziales', 'Bundesminister des Auswärtigen', 'Bundesminister des Inneren', 'Minister für Umwelt und Verbraucherschutz', 'Bundesminister für Verbraucherschutz', 'Ernährung und Landwirtschaft', 'Minister der Justiz und für Verbraucherschutz', 'Bundesminister für Verkehr, Bau und Stadtentwicklung', 'Staatsrätin für Bundesangelegenheiten, Europa und Integration', 'Ministerin für Arbeit, Gleichstellung und Soziales', 'Minister für Energie, Infrastruktur und Landesentwicklung', 'Ministerin für Kultus', 'Ministerin für Schule und Berufsbildung', 'Senator für Inneres und Sport', 'Ministerin für Bildung, Wissenschaft, Weiterbildung und Kultur', 'Minister für Wirtschaft, Arbeit und Verkehr', 'Ministerin für Arbeit, Soziales, Gesundheit, Frauen und Familie']\n",
    "secretaries_of_states = ['Staatssekretär', 'Parlamentarischer Staatssekretär', 'Parlamentarische Staatssekretärin', 'Staatssekretärin']\n",
    "privy_counselors = ['Staatsrat', 'Staatsrätin']\n",
    "prime_ministers = ['Ministerpräsident', 'Ministerpräsidentin']\n",
    "heads_of_state_chancellery = ['Chef der Staatskanzlei']\n",
    "representatives_of_federal_chancellor = ['Stellvertreter der Bundeskanzlerin']\n",
    "ministers_of_defense = ['Bundesminister der Verteidigung']\n",
    "representatives_of_prime_minister = ['Stellvertretender Ministerpräsident', 'Stellvertreter des Ministerpräsidenten', 'Stellvertretende Ministerpräsidentin']\n",
    "finance_ministers = ['Bundesminister der Finanzen', 'Finanzminister', 'Minister der Finanzen ']\n",
    "justice_ministers = ['Minister der Justiz', 'Bundesministerin der Justiz', 'Justizministerin']"
   ]
  },
  {
   "cell_type": "code",
   "execution_count": 147,
   "metadata": {
    "collapsed": false
   },
   "outputs": [],
   "source": [
    "import rdflib\n",
    "from rdflib import Graph, Literal, BNode, Namespace, RDF, URIRef\n",
    "from rdflib.namespace import DC, FOAF, SKOS\n",
    "ORG = Namespace(\"http://www.w3.org/ns/org#\")\n",
    "OWN = Namespace(\"http://example.org/\")\n",
    "\n",
    "# The Graph\n",
    "g = Graph()\n",
    "g.bind(\"dc\", DC)\n",
    "g.bind(\"foaf\", FOAF)\n",
    "g.bind(\"org\", ORG)\n",
    "g.bind(\"skos\", SKOS)\n",
    "g.bind(\"own\", OWN)\n",
    "\n",
    "g.parse('ontology.ttl', format='turtle')\n",
    "\n",
    "for entity in Entities.find({}):\n",
    "    node = BNode()\n",
    "    # DC\n",
    "    g.add((node, DC.identifier, Literal(entity[\"_id\"])))\n",
    "    g.add((node, DC.created, Literal(entity[\"created\"])))\n",
    "    g.add((node, DC.modified, Literal(entity[\"updated\"])))\n",
    "    \n",
    "    # RDF\n",
    "    if entity['type'] == 'person':\n",
    "        g.add((node, RDF.type, FOAF.Person))\n",
    "        g.add((node, FOAF.name, Literal(entity[\"name\"])))\n",
    "\n",
    "    elif entity['type'] == 'entity':\n",
    "        g.add((node, RDF.type, ORG.Organization))\n",
    "        g.add((node, SKOS.prefLabel, Literal(entity[\"name\"])))\n",
    "        for alias in entity[\"aliases\"]:\n",
    "            g.add((node, SKOS.altLabel, Literal(alias)))\n",
    "            \n",
    "    # FOAF\n",
    "    for tag in entity['tags']:\n",
    "        g.add((node, FOAF.topic_intest, Literal(tag)))"
   ]
  },
  {
   "cell_type": "code",
   "execution_count": 148,
   "metadata": {
    "collapsed": false
   },
   "outputs": [],
   "source": [
    "# Add executive relations\n",
    "for rel in Relations.find({ 'type' : { '$in' : ['executive', 'ececutive', 'Vorsitzender'] }}):\n",
    "    pos = [ attr['value'] for attr in rel['data'] if attr['key'] == 'position' ]\n",
    "    pos = pos[0].encode('utf-8') if pos else ''.encode('utf-8')\n",
    "    dest_node = g.value(predicate=DC.identifier, object=Literal(str(rel['entities'][0])))\n",
    "    target_node = g.value(predicate=DC.identifier, object=Literal(str(rel['entities'][1])))\n",
    "    \n",
    "    if dest_node and target_node:\n",
    "        # dest and target must be here\n",
    "        dest_type = g.value(subject=dest_node, predicate=RDF.type)\n",
    "        target_type = g.value(subject=target_node, predicate=RDF.type)\n",
    "        \n",
    "        if dest_type != target_type:\n",
    "            # dest and target can not have the same tye\n",
    "            if (dest_type == ORG.Organization) and (target_type == FOAF.Person):\n",
    "                # the subject must be the person\n",
    "                dest_node, target_node = target_node, dest_node\n",
    "\n",
    "            if pos in directors_board_members:\n",
    "                g.add((dest_node, OWN.isDirectorsBoardMemberOf, target_node))\n",
    "            elif pos in management_board_members:\n",
    "                g.add((dest_node, OWN.isManagementBoardMemberOf, target_node))\n",
    "            elif pos in presidial_board_members:\n",
    "                g.add((dest_node, OWN.isPresidialBoardMemberOf, target_node))\n",
    "            elif pos in chairmen_of_management:\n",
    "                g.add((dest_node, OWN.isChairmenOfManagement, target_node))\n",
    "            elif pos in management_members:\n",
    "                g.add((dest_node, OWN.isManagementMember, target_node))\n",
    "            elif pos in chairmen_of_directors_board:\n",
    "                g.add((dest_node, OWN.isChairmanOfDirectorsBoardOf, target_node))\n",
    "            elif pos in foundation_board_members:\n",
    "                g.add((dest_node, OWN.isFoundationBoardMemberOf, target_node))\n",
    "            elif pos in directors:\n",
    "                g.add((dest_node, OWN.isDirectorOf, target_node))\n",
    "            elif pos in presidents:\n",
    "                g.add((dest_node, OWN.isPresidentOf, target_node))\n",
    "            elif pos in trustees_board_members:\n",
    "                g.add((dest_node, OWN.isTrusteesBoardMemberOf, target_node))\n",
    "            elif pos in advidory_board_members:\n",
    "                g.add((dest_node, OWN.isAdvisoryBoardMemberOf, target_node))\n",
    "            elif pos in vice_presidents:\n",
    "                g.add((dest_node, OWN.isVicePresidentOf, target_node))\n",
    "            elif pos in administration_board_members:\n",
    "                g.add((dest_node, OWN.isAdministrationBoardMemberOf, target_node))\n",
    "            else:\n",
    "                g.add((dest_node, OWN.isOtherExecutiveOf, target_node))"
   ]
  },
  {
   "cell_type": "code",
   "execution_count": 149,
   "metadata": {
    "collapsed": false
   },
   "outputs": [],
   "source": [
    "# Add member relations\n",
    "for rel in Relations.find({ 'type' : { '$in' : ['member', 'activity', 'position'] }}):\n",
    "    pos = [ attr['value'] for attr in rel['data'] if attr['key'] == 'position' ]\n",
    "    pos = pos[0].encode('utf-8') if pos else ''.encode('utf-8')\n",
    "    if len(rel['entities']) == 2:\n",
    "        dest_node = g.value(predicate=DC.identifier, object=Literal(str(rel['entities'][0])))\n",
    "        target_node = g.value(predicate=DC.identifier, object=Literal(str(rel['entities'][1])))\n",
    "\n",
    "        if dest_node and target_node:\n",
    "            # dest and target must be here\n",
    "            dest_type = g.value(subject=dest_node, predicate=RDF.type)\n",
    "            target_type = g.value(subject=target_node, predicate=RDF.type)\n",
    "\n",
    "            if dest_type != target_type:\n",
    "                # dest and target can not have the same tye\n",
    "                if (dest_type == ORG.Organization) and (target_type == FOAF.Person):\n",
    "                    # the subject must be the person\n",
    "                    dest_node, target_node = target_node, dest_node\n",
    "\n",
    "                if pos in ordinary_members:\n",
    "                    g.add((dest_node, OWN.isOrdinaryMemberOf, target_node))\n",
    "                elif pos in representative_members:\n",
    "                    g.add((dest_node, OWN.isRepresentativeMemberOf, target_node))\n",
    "                elif pos in chairmen:\n",
    "                    g.add((dest_node, OWN.isChairmanOf, target_node))\n",
    "                elif pos in chairwomen:\n",
    "                    g.add((dest_node, OWN.isChairwomanOf, target_node))\n",
    "                elif pos in alliance_members:\n",
    "                    g.add((dest_node, OWN.isAllianceMemberOf, target_node))\n",
    "                elif pos in honorary_members:\n",
    "                    g.add((dest_node, OWN.isHonoraryMemberOf, target_node))\n",
    "                else:\n",
    "                    g.add((dest_node, OWN.isOtherMemberOf, target_node))"
   ]
  },
  {
   "cell_type": "code",
   "execution_count": 150,
   "metadata": {
    "collapsed": false
   },
   "outputs": [],
   "source": [
    "# Add government relations\n",
    "for rel in Relations.find({ 'type' : { '$in' : ['government', 'Bundesdatenschutzbeauftragte'] }}):\n",
    "    pos = [ attr['value'] for attr in rel['data'] if attr['key'] == 'position' ]\n",
    "    pos = pos[0].encode('utf-8') if pos else ''.encode('utf-8')\n",
    "    if len(rel['entities']) == 2:\n",
    "        dest_node = g.value(predicate=DC.identifier, object=Literal(str(rel['entities'][0])))\n",
    "        target_node = g.value(predicate=DC.identifier, object=Literal(str(rel['entities'][1])))\n",
    "    \n",
    "    if dest_node and target_node:\n",
    "            # dest and target must be here\n",
    "            dest_type = g.value(subject=dest_node, predicate=RDF.type)\n",
    "            target_type = g.value(subject=target_node, predicate=RDF.type)\n",
    "\n",
    "            if dest_type != target_type:\n",
    "                # dest and target can not have the same tye\n",
    "                if (dest_type == ORG.Organization) and (target_type == FOAF.Person):\n",
    "                    # the subject must be the person\n",
    "                    dest_node, target_node = target_node, dest_node\n",
    "                # target organisation must be a governmental organisation\n",
    "                g.add((target_node, RDF.type, OWN.Government)) \n",
    "                \n",
    "                if pos in secretaries_of_states:\n",
    "                    g.add((dest_node, OWN.isSecretaryOfStateOf, target_node))   \n",
    "                elif pos in privy_counselors:\n",
    "                    g.add((dest_node, OWN.isPrivyCouncilorOf, target_node))\n",
    "                elif pos in ministers:\n",
    "                    g.add((dest_node, OWN.isMinisterOf, target_node))\n",
    "                elif pos in prime_ministers:\n",
    "                    g.add((dest_node, OWN.isPrimeMinisterOf, target_node))\n",
    "                elif pos in heads_of_state_chancellery:\n",
    "                    g.add((dest_node, OWN.isHeadOfStateChancelleryOf, target_node))\n",
    "                elif pos in representatives_of_federal_chancellor:\n",
    "                    g.add((dest_node, OWN.isRepresentativeOfFederalChancellor, target_node))\n",
    "                elif pos in ministers_of_defense:\n",
    "                    g.add((dest_node, OWN.isMinisterOfDefenseOf, target_node))\n",
    "                elif pos in representatives_of_prime_minister:\n",
    "                    g.add((dest_node, OWN.isRepresentativeOfPrimeMinisterOf, target_node))\n",
    "                elif pos in finance_ministers:\n",
    "                    g.add((dest_node, OWN.isFinanceMinisterOf, target_node))\n",
    "                elif pos in justice_ministers:\n",
    "                    g.add((dest_node, OWN.isJusticeMinisterOf, target_node))\n",
    "                else :\n",
    "                    g.add((dest_node, OWN.isOtherwiseRelatedToGovernment, target_node))"
   ]
  },
  {
   "cell_type": "code",
   "execution_count": 12,
   "metadata": {
    "collapsed": false
   },
   "outputs": [],
   "source": [
    "test = [s for s,_,o in g.triples((None, RDF.type, OWN.Government))]"
   ]
  },
  {
   "cell_type": "code",
   "execution_count": 11,
   "metadata": {
    "collapsed": false
   },
   "outputs": [],
   "source": [
    "admin = [s for s,_,o in g.triples((None, OWN.isVicePresidentOf, None))]"
   ]
  },
  {
   "cell_type": "code",
   "execution_count": 124,
   "metadata": {
    "collapsed": false
   },
   "outputs": [],
   "source": [
    "def search_persons(name = \"\"):\n",
    "    qres = g.query(\"\"\" \n",
    "    SELECT DISTINCT ?name\n",
    "    WHERE { \n",
    "          ?person rdf:type foaf:Person .\n",
    "          ?person foaf:name ?name .\n",
    "          FILTER(regex(lcase(str(?name)), \\\"\"\"\" + name.lower() + \"\"\"\\\", \"i\"))\n",
    "    }\n",
    "    LIMIT 100\n",
    "    \"\"\")\n",
    "    return [ name[0].toPython() for name in qres ]"
   ]
  },
  {
   "cell_type": "code",
   "execution_count": 93,
   "metadata": {
    "collapsed": true
   },
   "outputs": [],
   "source": [
    "def search_sparql(query):\n",
    "    return g.query(query)"
   ]
  },
  {
   "cell_type": "code",
   "execution_count": 101,
   "metadata": {
    "collapsed": false
   },
   "outputs": [],
   "source": [
    "def search_governmental(name = \"\"):\n",
    "    qres = g.query(\"\"\" \n",
    "    SELECT DISTINCT ?name\n",
    "    WHERE { \n",
    "          ?org rdf:type own:Government .\n",
    "          ?org skos:prefLabel ?name .\n",
    "          FILTER(regex(lcase(str(?name)), \\\"\"\"\" + name.lower() + \"\"\"\\\", \"i\")) .\n",
    "    }\n",
    "    LIMIT 100\n",
    "    \"\"\")\n",
    "    return [ name[0].toPython() for name in qres ]"
   ]
  },
  {
   "cell_type": "code",
   "execution_count": 104,
   "metadata": {
    "collapsed": false
   },
   "outputs": [],
   "source": [
    "def search_organizations(name = \"\"):\n",
    "    qres = g.query(\"\"\" \n",
    "    SELECT DISTINCT ?name\n",
    "    WHERE { \n",
    "          ?org rdf:type org:Organization .\n",
    "          ?org skos:prefLabel ?name .\n",
    "          FILTER(regex(lcase(str(?name)), \\\"\"\"\" + name.lower() + \"\"\"\\\", \"i\")) .\n",
    "    }\n",
    "    LIMIT 100\n",
    "    \"\"\")\n",
    "    return [ name[0].toPython() for name in qres ]"
   ]
  },
  {
   "cell_type": "code",
   "execution_count": 179,
   "metadata": {
    "collapsed": false
   },
   "outputs": [],
   "source": [
    "def person_connections(name):\n",
    "    qres = g.query(\"\"\"\n",
    "    SELECT DISTINCT ?aname ?property ?bname\n",
    "    WHERE {\n",
    "        {\n",
    "            ?p rdfs:isSubPropertyOf own:isMemberOf .\n",
    "            ?property rdfs:isSubPropertyOf ?p .\n",
    "            ?a ?property ?b .\n",
    "            ?a foaf:name ?aname .\n",
    "            ?b skos:prefLabel ?bname . \n",
    "        }\n",
    "        UNION\n",
    "        { \n",
    "            ?property rdfs:isSubPropertyOf own:isMemberOf . \n",
    "            ?a ?property ?b .\n",
    "            ?a foaf:name ?aname .\n",
    "            ?b skos:prefLabel ?bname .\n",
    "        }\n",
    "        FILTER(lcase(str(?aname)) = \\\"\"\"\" + name.lower() + \"\"\"\\\") .\n",
    "    } \n",
    "    LIMIT 100\"\"\")\n",
    "    return [ (row[0].toPython(), row[1].toPython(), row[2].toPython()) for row in qres ]"
   ]
  },
  {
   "cell_type": "code",
   "execution_count": 181,
   "metadata": {
    "collapsed": false
   },
   "outputs": [
    {
     "data": {
      "text/plain": [
       "[u'Andreas Wagener',\n",
       " u'Andreas Hupprich',\n",
       " u'Andreas Spahn',\n",
       " u'Andreas Ruf',\n",
       " u'Andreas Kuhlmann',\n",
       " u'Andreas Scholz',\n",
       " u'Andreas Klinkhardt',\n",
       " u'Andreas Gram',\n",
       " u'Andreas J\\xe4schke',\n",
       " u'Andreas Gassen',\n",
       " u'Andreas Manthey',\n",
       " u'Andreas Brokemper',\n",
       " u'Andreas Stoch',\n",
       " u'Andreas Kraus',\n",
       " u'Andrea Huber',\n",
       " u'Andreas Neyen',\n",
       " u'Andreas Christiansen',\n",
       " u'Andreas Heim',\n",
       " u'Andreas Hofert',\n",
       " u'Andrea Pichottka',\n",
       " u'Andreas Zeilinger',\n",
       " u'Andreas Saffer',\n",
       " u'Andreas Barrenberg',\n",
       " u'Andreas Schumacher',\n",
       " u'Andreas Bolte',\n",
       " u'Andreas Schwab',\n",
       " u'Andreas Krautscheid',\n",
       " u'Andreas Werner',\n",
       " u'Andreas Bruckschen',\n",
       " u'Andreas Fenske',\n",
       " u'Andreas Link',\n",
       " u'Andreas Dederichs',\n",
       " u'R. Andreas Kraemer',\n",
       " u'Andreas Lingner',\n",
       " u'Andrea Brost',\n",
       " u'Andrea Schmitz',\n",
       " u'Andreas Horn',\n",
       " u'Andrea C. Ziegler',\n",
       " u'Andreas Koch',\n",
       " u'Andreas Scheerer',\n",
       " u'Andreas J. Zehnder',\n",
       " u'Andreas Th\\xfcmmler',\n",
       " u'Andreas R\\xf6mer',\n",
       " u'Andreas May',\n",
       " u'Andreas Trautwein',\n",
       " u'Andreas Huben',\n",
       " u'Andreas Schmidt',\n",
       " u'Andreas Rudlof',\n",
       " u'Andreas Callies',\n",
       " u'Cornelia Andrea Harrer',\n",
       " u'Andreas Borchers',\n",
       " u'Andrea Lenschow',\n",
       " u'Andreas de Maizi\\xe8re',\n",
       " u'Andrea Wilke',\n",
       " u'Andreas Eisele',\n",
       " u'Andreas Schimeck',\n",
       " u'Andreas K\\xf6hler',\n",
       " u'Andreas Heinz',\n",
       " u'Andreas R\\xf6ders',\n",
       " u'Andreas Hochhaus',\n",
       " u'Andreas Reinhardt',\n",
       " u'Andreas R\\xfcsch',\n",
       " u'Andreas Mahlich',\n",
       " u'Andreas Hemsing',\n",
       " u'Johann-Andreas Werhahn',\n",
       " u'Andreas Scheuer',\n",
       " u'Andreas Arlt',\n",
       " u'Andrea R\\xe4dlein',\n",
       " u'Andreas Vollmer',\n",
       " u'Andreas Karwatzki',\n",
       " u'Andrea Sommerfeldt',\n",
       " u'Andreas Bertaggia',\n",
       " u'Andreas Kiefer',\n",
       " u'Andrea Paul',\n",
       " u'Andrea Stollfu\\xdf',\n",
       " u'Andreas Rodemann',\n",
       " u'Andreas Nenner',\n",
       " u'Andrea Gen\\xe4hr',\n",
       " u'Andreas Rump',\n",
       " u'Andreas Oberweis',\n",
       " u'Andreas Beulich',\n",
       " u'Andreas Abs',\n",
       " u'Andreas Schmieg',\n",
       " u'Andreas Decker',\n",
       " u'Andreas Leppmann',\n",
       " u'Andreas Penk',\n",
       " u'Andreas Schmincke',\n",
       " u'Andreas Gabriel',\n",
       " u'Andreas Jung',\n",
       " u'Andreas D. Meyer',\n",
       " u'Andreas Luckow',\n",
       " u'Andreas Hasenpusch',\n",
       " u'Andreas Beck',\n",
       " u'Andreas Wagner',\n",
       " u'Andreas G\\xfcnther-Pl\\xf6nes',\n",
       " u'Andrea Hoops',\n",
       " u'Andreas Steck',\n",
       " u'Andreas Breitner',\n",
       " u'Andreas Pf\\xf6rtner',\n",
       " u'Andrea Bruckner']"
      ]
     },
     "execution_count": 181,
     "metadata": {},
     "output_type": "execute_result"
    }
   ],
   "source": [
    "search_persons(\"andrea\")"
   ]
  },
  {
   "cell_type": "code",
   "execution_count": 183,
   "metadata": {
    "collapsed": false
   },
   "outputs": [
    {
     "data": {
      "text/plain": [
       "[(u'Andreas Breitner',\n",
       "  u'http://example.org/isOtherwiseRelatedToGovernment',\n",
       "  u'Ministerium f\\xfcr Inneres und Bundesangelegenheiten Schleswig-Holstein'),\n",
       " (u'Andreas Breitner',\n",
       "  u'http://example.org/isOtherMemberOf',\n",
       "  u'Verband Norddeutscher Wohnungsunternehmen'),\n",
       " (u'Andreas Breitner', u'http://example.org/isOtherMemberOf', u'SPD'),\n",
       " (u'Andreas Breitner',\n",
       "  u'http://example.org/isOtherMemberOf',\n",
       "  u'Landesministerium f\\xfcr Inneres und Bundesangelegenheiten (Schleswig-Holstein)')]"
      ]
     },
     "execution_count": 183,
     "metadata": {},
     "output_type": "execute_result"
    }
   ],
   "source": [
    "person_connections(\"Andreas Breitner\")"
   ]
  },
  {
   "cell_type": "code",
   "execution_count": 120,
   "metadata": {
    "collapsed": false
   },
   "outputs": [
    {
     "name": "stdout",
     "output_type": "stream",
     "text": [
      "Andreas G. Lämmel http://example.org/isOrdinaryMemberOf Ausschuss für Wirtschaft und Energie\n",
      "Florian Oßner http://example.org/isOrdinaryMemberOf Ausschuss für Verkehr und digitale Infrastruktur\n",
      "Jörg Hellmuth http://example.org/isOrdinaryMemberOf Innenausschuss\n",
      "Stefan Zierke http://example.org/isOrdinaryMemberOf Ausschuss für Tourismus\n",
      "Britta Haßelmann http://example.org/isOrdinaryMemberOf Der Ältestenrat\n",
      "Irene Mihalic http://example.org/isOrdinaryMemberOf Edathy-Untersuchungsausschuss\n",
      "Heinz Riesenhuber http://example.org/isOrdinaryMemberOf Ausschuss für Wirtschaft und Energie\n",
      "Erika Steinbach http://example.org/isOrdinaryMemberOf Innenausschuss\n",
      "Jens Spahn http://example.org/isOrdinaryMemberOf Ausschuss für Gesundheit\n",
      "Alexandra Dinges-Dierig http://example.org/isOrdinaryMemberOf Ausschuss für Bildung, Forschung und Technikfolgenabschätzung\n",
      "Klaus-Peter Schulze http://example.org/isOrdinaryMemberOf Ausschuss für Tourismus\n",
      "Heinrich Zertik http://example.org/isOrdinaryMemberOf Ausschuss für Menschenrechte und humanitäre Hilfe\n",
      "Dr. Thomas Gambke http://example.org/isOrdinaryMemberOf Ausschuss für Wirtschaft und Energie\n",
      "Siegmund Ehrmann http://example.org/isOrdinaryMemberOf Unterausschuss \"Auswärtige Kultur- und Bildungspolitik\"\n",
      "Mahmut Özdemir http://example.org/isOrdinaryMemberOf Bundeszentrale für politische Bildung\n",
      "André Hahn http://example.org/isOrdinaryMemberOf Parlamentarisches Kontrollgremium der Nachrichtendienste\n",
      "Harald Petzold http://example.org/isOrdinaryMemberOf Ausschuss für Kultur und Medien\n",
      "Jürgen Klimke http://example.org/isOrdinaryMemberOf Unterausschuss Vereinte Nationen, Internationale Organisationen und Globalisierung\n",
      "Marianne Schieder http://example.org/isOrdinaryMemberOf Ausschuss für Wahlprüfung, Immunität und Geschäftsordnung\n",
      "Mechthild Heil http://example.org/isOrdinaryMemberOf Ausschuss für Recht und Verbraucherschutz\n",
      "Markus Kurth http://example.org/isOrdinaryMemberOf Ausschuss für Arbeit und Soziales\n",
      "Thomas Jurk http://example.org/isOrdinaryMemberOf Rechnungsprüfungsausschuss\n",
      "Axel Knoerig http://example.org/isOrdinaryMemberOf Bundeszentrale für politische Bildung\n",
      "Karin Evers-Meyer http://example.org/isOrdinaryMemberOf Haushaltsausschuss\n",
      "Martin Dörmann http://example.org/isOrdinaryMemberOf Ausschuss für Verkehr und digitale Infrastruktur\n",
      "Sonja Steffen http://example.org/isOrdinaryMemberOf Ausschuss für Wahlprüfung, Immunität und Geschäftsordnung\n",
      "Willi Brase http://example.org/isOrdinaryMemberOf Ausschuss für Ernährung und Landwirtschaft\n",
      "Astrid Grotelüschen http://example.org/isOrdinaryMemberOf Unterausschuss Regionale Wirtschaftspolitik und ERP-Wirtschaftspläne\n",
      "Elisabeth Winkelmeier-Becker http://example.org/isOrdinaryMemberOf Kontrollgremium zum Lauschangriff\n",
      "Fritz Güntzler http://example.org/isOrdinaryMemberOf Finanzausschuss\n",
      "Marcus Held http://example.org/isOrdinaryMemberOf Ausschuss für Wirtschaft und Energie\n",
      "Marina Kermer http://example.org/isOrdinaryMemberOf Ausschuss für Gesundheit\n",
      "Edelgard Bulmahn http://example.org/isOrdinaryMemberOf Unterausschuss für Zivile Krisenprävention, Konfliktbearbeitung und vernetztes Handeln\n",
      "Astrid Freudenstein http://example.org/isOrdinaryMemberOf Ausschuss für Kultur und Medien\n",
      "Bettina Hagedorn http://example.org/isOrdinaryMemberOf Rechnungsprüfungsausschuss\n",
      "Dr. Herlind Gundelach http://example.org/isOrdinaryMemberOf Ausschuss für Wirtschaft und Energie\n",
      "Annalena Baerbock http://example.org/isOrdinaryMemberOf Ausschuss für die Angelegenheiten der Europäischen Union\n",
      "Michaela Engelmeier http://example.org/isOrdinaryMemberOf Sportausschuss\n",
      "Renate Künast http://example.org/isOrdinaryMemberOf Ausschuss für Recht und Verbraucherschutz\n",
      "Gabriele Fograscher http://example.org/isOrdinaryMemberOf Wahlprüfungsausschuss\n",
      "Lena Strothmann http://example.org/isOrdinaryMemberOf Ausschuss für Wirtschaft und Energie\n",
      "Uwe Schummer http://example.org/isOrdinaryMemberOf Ausschuss für Bildung, Forschung und Technikfolgenabschätzung\n",
      "Bettina Hagedorn http://example.org/isOrdinaryMemberOf Haushaltsausschuss\n",
      "Martin Burkert http://example.org/isOrdinaryMemberOf Ausschuss für Verkehr und digitale Infrastruktur\n",
      "Katja Keul http://example.org/isOrdinaryMemberOf Der Ältestenrat\n",
      "Udo Schiefner http://example.org/isOrdinaryMemberOf Petitionsausschuss\n",
      "Petra Ernstberger http://example.org/isOrdinaryMemberOf Der Ältestenrat\n",
      "Svenja Stadler http://example.org/isOrdinaryMemberOf Ausschuss für Familie, Senioren, Frauen und Jugend\n",
      "Johannes Kahrs http://example.org/isOrdinaryMemberOf Haushaltsausschuss\n",
      "Marian Wendt http://example.org/isOrdinaryMemberOf Kontrollgremium zum Lauschangriff\n",
      "Johann Wadephul http://example.org/isOrdinaryMemberOf Der Ältestenrat\n",
      "Michael Vietz http://example.org/isOrdinaryMemberOf Unterausschuss für Zivile Krisenprävention, Konfliktbearbeitung und vernetztes Handeln\n",
      "Monika Lazar http://example.org/isOrdinaryMemberOf Bundeszentrale für politische Bildung\n",
      "Saskia Esken http://example.org/isOrdinaryMemberOf Parlamentarischer Beirat für nachhaltige Entwicklung\n",
      "Elisabeth Motschmann http://example.org/isOrdinaryMemberOf Unterausschuss \"Auswärtige Kultur- und Bildungspolitik\"\n",
      "Stefan Schwartze http://example.org/isOrdinaryMemberOf Ausschuss für Familie, Senioren, Frauen und Jugend\n",
      "Christian Flisek http://example.org/isOrdinaryMemberOf Ausschuss für Recht und Verbraucherschutz\n",
      "Andrej Hunko http://example.org/isOrdinaryMemberOf Unterausschuss zu Fragen der Europäischen Union\n",
      "Christina Jantz http://example.org/isOrdinaryMemberOf Ausschuss für Recht und Verbraucherschutz\n",
      "Christian Kühn http://example.org/isOrdinaryMemberOf Unterausschuss Kommunales\n",
      "Edgar Franke http://example.org/isOrdinaryMemberOf Ausschuss für Recht und Verbraucherschutz\n",
      "Kathrin Vogler http://example.org/isOrdinaryMemberOf Unterausschuss für Zivile Krisenprävention, Konfliktbearbeitung und vernetztes Handeln\n",
      "Antje Tillmann http://example.org/isOrdinaryMemberOf Finanzausschuss\n",
      "Norbert Brackmann http://example.org/isOrdinaryMemberOf Rechnungsprüfungsausschuss\n",
      "Harald Weinberg http://example.org/isOrdinaryMemberOf Ausschuss für Gesundheit\n",
      "Manfred Zöllmer http://example.org/isOrdinaryMemberOf Finanzausschuss\n",
      "Cornelia Möhring http://example.org/isOrdinaryMemberOf Ausschuss für Familie, Senioren, Frauen und Jugend\n",
      "Simone Raatz http://example.org/isOrdinaryMemberOf Ausschuss für wirtschaftliche Zusammenarbeit und Entwicklung\n",
      "Jeannine Pflugradt http://example.org/isOrdinaryMemberOf Parlamentarischer Beirat für nachhaltige Entwicklung\n",
      "Anja Weisgerber http://example.org/isOrdinaryMemberOf Unterausschuss Europarecht\n",
      "Bartholomäus Kalb http://example.org/isOrdinaryMemberOf Haushaltsausschuss\n",
      "Michael Frieser http://example.org/isOrdinaryMemberOf Innenausschuss\n",
      "Martin Patzelt http://example.org/isOrdinaryMemberOf Ausschuss für Familie, Senioren, Frauen und Jugend\n",
      "Christian Haase http://example.org/isOrdinaryMemberOf Ausschuss für Umwelt, Naturschutz, Bau und Reaktorsicherheit\n",
      "Dagmar Freitag http://example.org/isOrdinaryMemberOf Sportausschuss\n",
      "Astrid Freudenstein http://example.org/isOrdinaryMemberOf Ausschuss für Arbeit und Soziales\n",
      "Ulla Schmidt http://example.org/isOrdinaryMemberOf Unterausschuss \"Auswärtige Kultur- und Bildungspolitik\"\n",
      "Ekin Deligöz http://example.org/isOrdinaryMemberOf Haushaltsausschuss\n",
      "Susann Rüthrich http://example.org/isOrdinaryMemberOf Kinderkommission - Kommission zur Wahrnehmung der Belange der Kinder\n",
      "Michael Gerdes http://example.org/isOrdinaryMemberOf Ausschuss für Arbeit und Soziales\n",
      "Oswin Veith http://example.org/isOrdinaryMemberOf Innenausschuss\n",
      "Ingrid Arndt-Brauer http://example.org/isOrdinaryMemberOf G 10-Kommission\n",
      "Katja Keul http://example.org/isOrdinaryMemberOf Ausschuss für Recht und Verbraucherschutz\n",
      "Rosemarie Hein http://example.org/isOrdinaryMemberOf Bundeszentrale für politische Bildung\n",
      "Maria Michalk http://example.org/isOrdinaryMemberOf Ausschuss für Gesundheit\n",
      "Reinhard Brandl http://example.org/isOrdinaryMemberOf Haushaltsausschuss\n",
      "Josip Juratovic http://example.org/isOrdinaryMemberOf Unterausschuss Vereinte Nationen, Internationale Organisationen und Globalisierung\n",
      "Dr. Christoph Bergner http://example.org/isOrdinaryMemberOf Auswärtiger Ausschuss\n",
      "Halina Wawzyniak http://example.org/isOrdinaryMemberOf Unterausschuss Europarecht\n",
      "Johann Wadephul http://example.org/isOrdinaryMemberOf Ausschuss für Wahlprüfung, Immunität und Geschäftsordnung\n",
      "Dr. Tobias Lindner http://example.org/isOrdinaryMemberOf Haushaltsausschuss\n",
      "Michaela Engelmeier http://example.org/isOrdinaryMemberOf Ausschuss für wirtschaftliche Zusammenarbeit und Entwicklung\n",
      "Barbara Lanzinger http://example.org/isOrdinaryMemberOf Ausschuss für Tourismus\n",
      "Susanna Karawanskij http://example.org/isOrdinaryMemberOf Finanzausschuss\n",
      "Ulrike Bahr http://example.org/isOrdinaryMemberOf Unterausschuss \"Bürgerschaftliches Engagement\"\n",
      "Clemens Binninger http://example.org/isOrdinaryMemberOf Innenausschuss\n",
      "Uwe Feiler http://example.org/isOrdinaryMemberOf Finanzausschuss\n",
      "Andreas Schwarz http://example.org/isOrdinaryMemberOf Finanzausschuss\n",
      "Heinz-Joachim Barchmann http://example.org/isOrdinaryMemberOf Ausschuss für die Angelegenheiten der Europäischen Union\n",
      "Florian Hahn http://example.org/isOrdinaryMemberOf Verteidigungsausschuss\n"
     ]
    }
   ],
   "source": [
    "# ... add some triples to g somehow ...\n",
    "qres = g.query(\"\"\" \n",
    "SELECT DISTINCT ?aname ?property ?bname\n",
    "    WHERE {\n",
    "        ?property rdfs:isSubPropertyOf own:isMemberOf .\n",
    "        ?a ?property ?b .\n",
    "        ?a foaf:name ?aname .\n",
    "        ?b skos:prefLabel ?bname .\n",
    "    }\n",
    "    LIMIT 100\"\"\")\n",
    "\n",
    "for row in qres:\n",
    "    print(\"%s %s %s\" % row)"
   ]
  },
  {
   "cell_type": "code",
   "execution_count": 178,
   "metadata": {
    "collapsed": false
   },
   "outputs": [
    {
     "name": "stdout",
     "output_type": "stream",
     "text": [
      "Angela Merkel http://example.org/isOtherwiseRelatedToGovernment Bundeskanzleramt\n",
      "Angela Merkel http://example.org/isOtherMemberOf Kabinett Merkel III\n",
      "Angela Merkel http://example.org/isOtherMemberOf Deutscher Bundestag\n",
      "Angela Merkel http://example.org/isOtherMemberOf Bundesakademie für Sicherheitspolitik\n",
      "Angela Merkel http://example.org/isOtherMemberOf Deutsche Gesellschaft e.V., Verein zur Förderung politischer, kultureller und sozialer Beziehungen in Europa\n",
      "Angela Merkel http://example.org/isOtherMemberOf Atlantik-Brücke e.V.\n",
      "Angela Merkel http://example.org/isOtherMemberOf Stiftung Deutsche Sporthilfe\n",
      "Angela Merkel http://example.org/isOtherMemberOf Kabinett Merkel I\n",
      "Angela Merkel http://example.org/isOtherMemberOf Deutsches Museum\n",
      "Angela Merkel http://example.org/isOtherMemberOf Kabinett Merkel II\n",
      "Angela Merkel http://example.org/isOtherMemberOf CDU/CSU-Fraktion\n",
      "Angela Merkel http://example.org/isOtherMemberOf Stiftung Frauenkirche Dresden\n",
      "Angela Merkel http://example.org/isOtherMemberOf Stiftung Lindauer Nobelpreisträgertreffen am Bodensee\n",
      "Angela Merkel http://example.org/isOtherMemberOf Konrad-Adenauer-Stiftung\n"
     ]
    }
   ],
   "source": [
    "# ... add some triples to g somehow ...\n",
    "qres = g.query(\"\"\" \n",
    "SELECT DISTINCT ?aname ?property ?bname\n",
    "    WHERE {\n",
    "        {\n",
    "            ?p rdfs:isSubPropertyOf own:isMemberOf .\n",
    "            ?property rdfs:isSubPropertyOf ?p .\n",
    "            ?a ?property ?b .\n",
    "            ?a foaf:name ?aname .\n",
    "            ?b skos:prefLabel ?bname . \n",
    "        }\n",
    "        UNION\n",
    "        { \n",
    "            ?property rdfs:isSubPropertyOf own:isMemberOf . \n",
    "            ?a ?property ?b .\n",
    "            ?a foaf:name ?aname .\n",
    "            ?b skos:prefLabel ?bname .\n",
    "        }\n",
    "        FILTER(lcase(str(?aname)) = \"angela merkel\") .\n",
    "    } LIMIT 100\"\"\")\n",
    "\n",
    "for row in qres:\n",
    "    print(\"%s %s %s\" % row)"
   ]
  },
  {
   "cell_type": "code",
   "execution_count": 38,
   "metadata": {
    "collapsed": false
   },
   "outputs": [
    {
     "data": {
      "text/plain": [
       "'<?xml version=\"1.0\" encoding=\"utf-8\"?>\\n<sparql:sparql xmlns:sparql=\"http://www.w3.org/2005/sparql-results#\" xmlns:xml=\"http://www.w3.org/XML/1998/namespace\"><sparql:head><sparql:variable name=\"property\"></sparql:variable></sparql:head><sparql:results></sparql:results></sparql:sparql>'"
      ]
     },
     "execution_count": 38,
     "metadata": {},
     "output_type": "execute_result"
    }
   ],
   "source": [
    "qres.serialize()"
   ]
  },
  {
   "cell_type": "code",
   "execution_count": null,
   "metadata": {
    "collapsed": false
   },
   "outputs": [],
   "source": [
    "# %load 'ontology.ttl'\n",
    "@prefix rdf: <http://www.w3.org/1999/02/22-rdf-syntax-ns#> .  \n",
    "@prefix rdfs: <http://www.w3.org/2000/01/rdf-schema#> .\n",
    "@prefix org: <http://www.w3.org/ns/org#> .\n",
    "@prefix foaf: <http://xmlns.com/foaf/0.1/> .\n",
    "@prefix dcam: <http://purl.org/dc/dcam/> .\n",
    "@prefix vcard: <http://www.w3.org/2006/vcard/ns#> .\n",
    "@prefix dc: <http://purl.org/dc/elements/1.1/> .\n",
    "@prefix : <http://example.org/> .\n",
    "\n",
    "# T-Box:\n",
    ":Party a rdfs:Class ;\n",
    "  rdfs:subClassOf org:Organization .\n",
    ":Politician a rdfs:Class ;\n",
    "  rdfs:subClassOf foaf:Person .\n",
    ":Lobbyist a rdfs:Class ;\n",
    "  rdfs:subClassOf foaf:Person .\n",
    ":Source a rdfs:Class ;\n",
    "  rdfs:subClassOf dc:source .\n",
    ":Address a rdfs:Class ;\n",
    "  rdfs:subClassOf vcard:ADR .\n",
    ":Description a rdfs:Class ;\n",
    "  rdfs:subClassOf dc:description .\n",
    ":Topic a rdfs:Class ;\n",
    "  rdfs:subClassOf foaf:topic .\n",
    ":LegalForm a rdfs:Class .\n",
    ":From a rdfs:Class ;\n",
    "  rdfs:subClassOf dc:date .\n",
    ":To a rdfs:Class ;\n",
    "  rdfs:subClassOf dc:date .\n",
    ":Homepage a rdfs:Class ;\n",
    "  rdfs:subClassOf foaf:homepage .\n",
    ":Title a rdfs:Class ;\n",
    "  rdfs:subClassOf dc:title .\n",
    ":Photo a rdfs:Class ;\n",
    "  rdfs:subClassOf foaf:Image .\n",
    ":FederalState a rdf:Class ;\n",
    "  rdfs:subClassOf vcard:locality .\n",
    ":BTCertUID a rdf:Class ;\n",
    "  rdfs:subClassOf foaf:OnlineAccount .\n",
    ":Constituency a rdf:Class ;\n",
    "  rdfs:subClassOf vcard:region .\n",
    ":Government a rdfs:Class ;\n",
    "  rdfs:subClassOf org:Organization .\n",
    "\n",
    "# Member -> data.key: position, type: activity, member, position\n",
    "\n",
    ":isMemberOf a rdf:Property ; # Mitglied, \n",
    "  rdfs:domain foaf:Person ;\n",
    "  rdfs:range :Organization .\n",
    ":isExecutiveOf rdfs:isSubPropertyOf :isMemberOf .\n",
    ":isDonor a rdf:Property ; # -> data.key: position, type: donation, sponsoring\n",
    "  rdfs:domain foaf:Person ;\n",
    "  rdfs:range :Party .\n",
    ":isInBusinessWith a rdf:Property ; # -> data.key: position, type: buisiness\n",
    "  rdfs:domain foaf:Person ;\n",
    "  rdfs:range :Party .\n",
    ":isRelatedTo a rdf:Property ; # -> data.key:position, type: association\n",
    "  rdfs:domain rdfs:Class ;\n",
    "  rdfs:range rdfs:Class .\n",
    ":isSubsidiaryOf a rdf:Property ; # -> data.key:position, type: association, subisdiary, Tochterfirma\n",
    "  rdfs:domain :Party ;\n",
    "  rdfs:range :Party .\n",
    ":isRelatedToGovernment a rdf:Property ;\n",
    "  rdfs:domain foaf:Person ;\n",
    "  rdfs:range :Government .\n",
    "\n",
    "# executive, ececutive, Vorsitzender\n",
    ":isDirectorsBoardMemberOf rdfs:isSubPropertyOf :isExecutiveOf . # Aufsichtsratsmitglied, Board of Directors, Mitglied des Aufsichtsrats, Mitglied im Aufsichtsrat, Lenkungsgruppe, Mitglied des Aufsichtsrates, Anteilseignervertreter, Stellvertretender Vorstandsvorsitzender des Aufsichtsrats\n",
    ":isManagementBoardMemberOf rdfs:isSubPropertyOf :isExecutiveOf . # Vorstandsmitglied, Mitglied des Vorstands\n",
    ":isPresidentalBoardMemberOf rdfs:isSubPropertyOf :isExecutiveOf . # Präsidialmitglied, Mitglied des Präsidiums, Präsidiumsmitglied\n",
    ":isChairmanOfManagementOf rdfs:isSubPropertyOf :isExecutiveOf . # Vorstandsvorsitz, Vorstandsvorsitzender, Vorsitzender des Vorstands\n",
    ":isManagementMemberOf rdfs:isSubPropertyOf :isExecutiveOf .  # Vorstand\n",
    ":isChairmanOfDirectorsBoardOf rdfs:isSubPropertyOf :isExecutiveOf . # Aufsichtsratsvorsitz, Vorsitzender des Aufsichtsrats\n",
    ":isFoundationBoardMemberOf rdfs:isSubPropertyOf :isExecutiveOf . # Mitglied des Stiftungsrats, Stiftungsrat\n",
    ":isDirectorOf rdfs:isSubPropertyOf :isExecutiveOf . # Geschäftsführer, Hauptgeschäftsführer, CEO, Geschäftsführender Vorstand, Geschäftsführender Gesellschafter, Direktor\n",
    ":isPresidentOf rdfs:isSubPropertyOf :isExecutiveOf . # Präsident, Vorsitz, Vorsitzender, Präsidentin\n",
    ":isTrusteesBoardMemberOf rdfs:isSubPropertyOf :isExecutiveOf . # Mitglied des Kuratoriums\n",
    ":isAdvisoryBoardMemberOf rdfs:isSubPropertyOf :isExecutiveOf . # Mitglied im Beirat, Mitglied des Beirats, Beisitzer des Beirats\n",
    ":isVicePresidentOf rdfs:isSubPropertyOf :isExecutiveOf . # Stellvertretender Vorsitz, Vize-Präsident, Vizepräsident\n",
    ":isAdministrationBoardMemberOf rdfs:isSubPropertyOf :isExecutiveOf . # Mitglied des Verwaltungsrats\n",
    ":isOtherExecutiveOf rdfs:isSubPropertyOf :isExecutiveOf . # ...\n",
    "\n",
    "# member, activity, position\n",
    ":isOrdinaryMemberOf rdfs:isSubPropertyOf :isMemberOf . # Ordentliches Mitglied\n",
    ":isRepresentativeMemberOf rdfs:isSubPropertyOf :isMemberOf . # Stellvertretendes Mitglied\n",
    ":isChairmanOf rdfs:isSubPropertyOf :isMemberOf . # Obmann\n",
    ":isChairwomanOf rdfs:isSubPropertyOf :isMemberOf . # Obfrau\n",
    ":isAllianceMemberOf rdfs:isSubPropertyOf :isMemberOf . # Mitglied im Verband\n",
    ":isHonoraryMemberOf rdfs:isSubPropertyOf :isMemberOf . # Ehrenmitglied\n",
    ":isOtherMemberOf rdfs:isSubPropertyOf :isMemberOf . # ...\n",
    " \n",
    "# government, Bundesdatenschutzbeauftragte\n",
    ":isSecretaryOfStateOf rdfs:isSubPropertyOf :isRelatedToGovernment . #Staatssekretär, Parlamentarischer Staatssekretär, Parlamentarische Staatssekretärin, Staatssekretärin, \n",
    ":isPrivyCouncilorOf rdfs:isSubPropertyOf :isRelatedToGovernment . # Staatsrat, Staatsrätin\n",
    ":isMinisterOf rdfs:isSubPropertyOf :isRelatedToGovernment . # Staatsminister, Staatsministerin, Bundesminister für Umwelt, Naturschutz und Reaktorsicherheit, Bundesministerin für Familie, Senioren, Frauen und Jugend, Bundesminister für Wirtschaft und Technologie, Minister für Inneres und Kommunales, Minister für Inneres und Sport, Bundesminister für Ernährung, Landwirtschaft und Verbraucherschutz, Bundesministerin für Bildung, Wissenschaft, Forschung und Technologie, Bundesminister für besondere Aufgaben, Bundesminister für Arbeit und Soziales, Bundesminister des Auswärtigen, Bundesminister des Inneren, Minister für Umwelt und Verbraucherschutz, Bundesminister für Verbraucherschutz, Ernährung und Landwirtschaft, Minister der Justiz und für Verbraucherschutz, Bundesminister für Verkehr, Bau und Stadtentwicklung, Staatsrätin für Bundesangelegenheiten, Europa und Integration, Ministerin für Arbeit, Gleichstellung und Soziales, Minister für Energie, Infrastruktur und Landesentwicklung, Ministerin für Kultus, Ministerin für Schule und Berufsbildung, Senator für Inneres und Sport, Ministerin für Bildung, Wissenschaft, Weiterbildung und Kultur, Minister für Wirtschaft, Arbeit und Verkehr, Ministerin für Arbeit, Soziales, Gesundheit, Frauen und Familie \n",
    ":isPrimeMinisterOf rdfs:isSubPropertyOf :isRelatedToGovernment . # Ministerpräsident, Ministerpräsidentin\n",
    ":isHeadOfStateChancelleryOf rdfs:isSubPropertyOf :isRelatedToGovernment . # Chef der Staatskanzlei\n",
    ":isRepresentativeOfFederalChancellor rdfs:isSubPropertyOf :isRelatedToGovernment . # Stellvertreter der Bundeskanzlerin\n",
    ":isMinisterOfDefenseOf rdfs:isSubPropertyOf :isRelatedToGovernment . # Bundesminister der Verteidigung\n",
    ":isRepresentativeOfPrimeMinisterOf rdfs:isSubPropertyOf :isRelatedToGovernment . # Stellvertretender Ministerpräsident, Stellvertreter des Ministerpräsidenten, Stellvertretende Ministerpräsidentin\n",
    ":isFinanceMinisterOf rdfs:isSubPropertyOf :isRelatedToGovernment . # Bundesminister der Finanzen, Finanzminister, Minister der Finanzen \n",
    ":isJusticeMinisterOf rdfs:isSubPropertyOf :isRelatedToGovernment . # Minister der Justiz, Bundesministerin der Justiz, Justizministerin\n",
    ":isOtherwiseRelatedToGovernment rdfs:isSubPropertyOf :isRelatedToGovernment . #\n"
   ]
  },
  {
   "cell_type": "code",
   "execution_count": null,
   "metadata": {
    "collapsed": false
   },
   "outputs": [],
   "source": [
    "ids"
   ]
  },
  {
   "cell_type": "code",
   "execution_count": null,
   "metadata": {
    "collapsed": true
   },
   "outputs": [],
   "source": []
  }
 ],
 "metadata": {
  "kernelspec": {
   "display_name": "Python 2",
   "language": "python",
   "name": "python2"
  },
  "language_info": {
   "codemirror_mode": {
    "name": "ipython",
    "version": 2
   },
   "file_extension": ".py",
   "mimetype": "text/x-python",
   "name": "python",
   "nbconvert_exporter": "python",
   "pygments_lexer": "ipython2",
   "version": "2.7.6"
  }
 },
 "nbformat": 4,
 "nbformat_minor": 0
}
