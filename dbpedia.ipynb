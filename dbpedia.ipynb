{
 "cells": [
  {
   "cell_type": "code",
   "execution_count": 1,
   "metadata": {
    "collapsed": true
   },
   "outputs": [],
   "source": [
    "import urllib, urllib2, json\n",
    "import traceback, sys"
   ]
  },
  {
   "cell_type": "code",
   "execution_count": 15,
   "metadata": {
    "collapsed": true
   },
   "outputs": [],
   "source": [
    "def dbpedia_sparql_query(q, endpoint, f='application/json'):\n",
    "    \"\"\"\n",
    "    Sends a GET-request to a given sparql endpoint with a given query.\n",
    "    Returns the result as a JSON string.\n",
    "    \"\"\"\n",
    "    try:\n",
    "        params = {'query': q}\n",
    "        params = urllib.urlencode(params)\n",
    "        opener = urllib2.build_opener(urllib2.HTTPHandler)\n",
    "        request = urllib2.Request(endpoint + '?' + params)\n",
    "        request.add_header('Accept', f)\n",
    "        request.get_method = lambda: 'GET'\n",
    "        url = opener.open(request)\n",
    "        return url.read()\n",
    "    except Exception, e:\n",
    "        traceback.print_exc(file=sys.stdout)\n",
    "        raise e "
   ]
  },
  {
   "cell_type": "code",
   "execution_count": 18,
   "metadata": {
    "collapsed": false
   },
   "outputs": [],
   "source": [
    "def dbpedia_person(name):\n",
    "    \"\"\"\n",
    "    Queries a person by name at dbpedia. \n",
    "    Returns the dbpedia persons uris as array.\n",
    "    \"\"\"\n",
    "    q = \"\"\"\n",
    "        PREFIX foaf: <http://xmlns.com/foaf/0.1/>\n",
    "        SELECT ?person ?abstract\n",
    "        WHERE {\n",
    "            ?person foaf:name ?name .\n",
    "            ?person dbo:abstract ?abstract .\n",
    "            FILTER(\n",
    "                str(?name) = \\\"\"\"\" + name + \"\"\"\\\" && \n",
    "                langMatches(lang(?abstract),\"de\") \n",
    "            )\n",
    "        }\"\"\"\n",
    "    result = dbpedia_sparql_query(q,\"http://dbpedia.org/sparql\")\n",
    "    j = json.loads(result, parse_float=True, parse_int=True)\n",
    "    return [ ( p['person']['value'], p['abstract']['value'] ) for p in j['results']['bindings'] ]"
   ]
  },
  {
   "cell_type": "code",
   "execution_count": 19,
   "metadata": {
    "collapsed": false
   },
   "outputs": [
    {
     "data": {
      "text/plain": [
       "[(u'http://dbpedia.org/resource/Angela_Merkel',\n",
       "  u'Angela Dorothea Merkel (* 17. Juli 1954 in Hamburg als Angela Dorothea Kasner) ist eine deutsche Politikerin. Bei der Bundestagswahl am 2. Dezember 1990 errang Merkel, die in der DDR als  Physikerin ausgebildet wurde und auch t\\xe4tig war, erstmals ein Bundestagsmandat; in allen darauffolgenden sechs Bundestagswahlen wurde sie in ihrem Wahlkreis direkt gew\\xe4hlt.Von 1991 bis 1994 war Merkel Bundesministerin f\\xfcr Frauen und Jugend im Kabinett Kohl IV und von 1994 bis 1998 Bundesministerin f\\xfcr Umwelt, Naturschutz und Reaktorsicherheit im Kabinett Kohl V. Von 1998 bis 2000 amtierte sie als Generalsekret\\xe4rin der CDU.Seit dem 10. April 2000 ist sie Bundesvorsitzende der CDU und seit dem 22. November 2005 \\u2013 mittlerweile in der dritten Amtsperiode \\u2013 als Chefin von unterschiedlich zusammengesetzten Koalitionsregierungen deutsche Bundeskanzlerin. Sie ist die erste Frau und zugleich die achte Person in der Geschichte der Bundesrepublik, die dieses Amt innehat.')]"
      ]
     },
     "execution_count": 19,
     "metadata": {},
     "output_type": "execute_result"
    }
   ],
   "source": [
    "dbpedia_person(\"Angela Merkel\")"
   ]
  },
  {
   "cell_type": "code",
   "execution_count": null,
   "metadata": {
    "collapsed": true
   },
   "outputs": [],
   "source": []
  }
 ],
 "metadata": {
  "kernelspec": {
   "display_name": "Python 2",
   "language": "python",
   "name": "python2"
  },
  "language_info": {
   "codemirror_mode": {
    "name": "ipython",
    "version": 2
   },
   "file_extension": ".py",
   "mimetype": "text/x-python",
   "name": "python",
   "nbconvert_exporter": "python",
   "pygments_lexer": "ipython2",
   "version": "2.7.6"
  }
 },
 "nbformat": 4,
 "nbformat_minor": 0
}
