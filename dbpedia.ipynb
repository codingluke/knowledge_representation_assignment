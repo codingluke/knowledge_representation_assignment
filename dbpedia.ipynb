{
 "cells": [
  {
   "cell_type": "code",
   "execution_count": 1,
   "metadata": {
    "collapsed": true
   },
   "outputs": [],
   "source": [
    "import urllib\n",
    "import urllib2\n",
    "import json\n",
    "from pprint import pprint"
   ]
  },
  {
   "cell_type": "code",
   "execution_count": 2,
   "metadata": {
    "collapsed": true
   },
   "outputs": [],
   "source": [
    "def sparql_query(q,epr,f='application/json'):\n",
    "    \"\"\"\n",
    "    Sends a GET-request to a given sparql endpoint with a given query.\n",
    "    Returns the result as a JSON string.\n",
    "    \"\"\"\n",
    "    try:\n",
    "        params = {'query': q}\n",
    "        params = urllib.urlencode(params)\n",
    "        opener = urllib2.build_opener(urllib2.HTTPHandler)\n",
    "        request = urllib2.Request(epr+'?'+params)\n",
    "        request.add_header('Accept', f)\n",
    "        request.get_method = lambda: 'GET'\n",
    "        url = opener.open(request)\n",
    "        return url.read()\n",
    "    except Exception, e:\n",
    "        traceback.print_exc(file=sys.stdout)\n",
    "        raise e "
   ]
  },
  {
   "cell_type": "code",
   "execution_count": 23,
   "metadata": {
    "collapsed": false
   },
   "outputs": [],
   "source": [
    "def query_dbpedia_person(name):\n",
    "    \"\"\"\n",
    "    Queries a person by name at dbpedia. \n",
    "    Returns the dbpedia persons uris as array.\n",
    "    \"\"\"\n",
    "    q = \"\"\"\n",
    "        PREFIX foaf: <http://xmlns.com/foaf/0.1/>\n",
    "        SELECT ?person \n",
    "        WHERE {\n",
    "           ?person foaf:name ?name .\n",
    "           FILTER(str(?name) = \\\"\"\"\" + name + \"\"\"\\\")\n",
    "        }\"\"\"\n",
    "    result = sparql_query(q,\"http://dbpedia.org/sparql\")\n",
    "    j = json.loads(result, parse_float=True, parse_int=True)\n",
    "    return [ p['person']['value'] for p in j['results']['bindings'] ]"
   ]
  },
  {
   "cell_type": "code",
   "execution_count": 25,
   "metadata": {
    "collapsed": false
   },
   "outputs": [],
   "source": [
    "j = query_dbpedia_person(\"Thomas Gottschalk\")"
   ]
  },
  {
   "cell_type": "code",
   "execution_count": 26,
   "metadata": {
    "collapsed": false
   },
   "outputs": [
    {
     "name": "stdout",
     "output_type": "stream",
     "text": [
      "[u'http://dbpedia.org/resource/Thomas_Gottschalk']\n"
     ]
    }
   ],
   "source": [
    "pprint(j)"
   ]
  },
  {
   "cell_type": "code",
   "execution_count": null,
   "metadata": {
    "collapsed": true
   },
   "outputs": [],
   "source": []
  }
 ],
 "metadata": {
  "kernelspec": {
   "display_name": "Python 2",
   "language": "python",
   "name": "python2"
  },
  "language_info": {
   "codemirror_mode": {
    "name": "ipython",
    "version": 2
   },
   "file_extension": ".py",
   "mimetype": "text/x-python",
   "name": "python",
   "nbconvert_exporter": "python",
   "pygments_lexer": "ipython2",
   "version": "2.7.6"
  }
 },
 "nbformat": 4,
 "nbformat_minor": 0
}
