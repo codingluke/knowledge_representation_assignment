{
 "cells": [
  {
   "cell_type": "markdown",
   "metadata": {},
   "source": [
    "# Explore MongoDB"
   ]
  },
  {
   "cell_type": "code",
   "execution_count": 24,
   "metadata": {
    "collapsed": false
   },
   "outputs": [],
   "source": [
    "import pymongo\n",
    "from pymongo import MongoClient\n",
    "from bson.son import SON\n",
    "from bson.objectid import ObjectId\n",
    "import rdflib"
   ]
  },
  {
   "cell_type": "code",
   "execution_count": 3,
   "metadata": {
    "collapsed": false
   },
   "outputs": [],
   "source": [
    "client = MongoClient()\n",
    "db = client.lobbyradar\n",
    "\n",
    "Entities = db.entities\n",
    "Relations = db.relations\n",
    "\n",
    "person_filter = { 'type' : 'person' }\n",
    "entity_filter = { 'type' : 'entity' }\n",
    "persons = Entities.find(person_filter)\n",
    "entities = Entities.find(entity_filter)"
   ]
  },
  {
   "cell_type": "markdown",
   "metadata": {},
   "source": [
    "__Entity typen__\n",
    "werden alle zu einem `rdf:Class`"
   ]
  },
  {
   "cell_type": "code",
   "execution_count": 4,
   "metadata": {
    "collapsed": false
   },
   "outputs": [
    {
     "data": {
      "text/plain": [
       "[u'Bundesdatenschutzbeauftragte',\n",
       " u'Hausausweise',\n",
       " u'Mitglied',\n",
       " u'Position',\n",
       " u'Tochterfirma',\n",
       " u'Vorsitzender',\n",
       " u'activity',\n",
       " u'association',\n",
       " u'business',\n",
       " u'committee',\n",
       " u'consulting',\n",
       " u'donation',\n",
       " u'ececutive',\n",
       " u'entity',\n",
       " u'executive',\n",
       " u'government',\n",
       " u'lobbyist',\n",
       " u'member',\n",
       " u'mitglied',\n",
       " u'person',\n",
       " u'position',\n",
       " u'publication',\n",
       " u'sponsoring',\n",
       " u'subisdiary',\n",
       " u'subsidiary']"
      ]
     },
     "execution_count": 4,
     "metadata": {},
     "output_type": "execute_result"
    }
   ],
   "source": [
    "Entities.distinct('type')"
   ]
  },
  {
   "cell_type": "markdown",
   "metadata": {},
   "source": [
    "__Ralationship typen__\n",
    "werden alle zu einem `rdf:Property`"
   ]
  },
  {
   "cell_type": "code",
   "execution_count": 5,
   "metadata": {
    "collapsed": false
   },
   "outputs": [
    {
     "name": "stdout",
     "output_type": "stream",
     "text": [
      "Bundesdatenschutzbeauftragte\n",
      "Hausausweise\n",
      "Mitglied\n",
      "Position\n",
      "Tochterfirma\n",
      "Vorsitzender\n",
      "activity\n",
      "association\n",
      "business\n",
      "committee\n",
      "consulting\n",
      "donation\n",
      "ececutive\n",
      "executive\n",
      "government\n",
      "lobbyist\n",
      "member\n",
      "mitglied\n",
      "position\n",
      "publication\n",
      "sponsoring\n",
      "subisdiary\n",
      "subsidiary\n"
     ]
    }
   ],
   "source": [
    "Relations.distinct('type')\n",
    "for row in Relations.distinct('type'):\n",
    "    print row"
   ]
  },
  {
   "cell_type": "markdown",
   "metadata": {},
   "source": [
    "__ Importer __"
   ]
  },
  {
   "cell_type": "code",
   "execution_count": 6,
   "metadata": {
    "collapsed": false
   },
   "outputs": [
    {
     "name": "stdout",
     "output_type": "stream",
     "text": [
      "lobbyliste (32668)\n",
      "bundestag (7398)\n",
      "parteispenden (6372)\n",
      "pr (4001)\n",
      "None (2132)\n",
      "dax (1213)\n",
      "laender (905)\n",
      "parteispenden13 (670)\n",
      "db.clean (629)\n",
      "seitenwechsler (569)\n",
      "kabinette (518)\n",
      "thinktanks (485)\n",
      "parteispenden14 (15)\n",
      "parteien (1)\n"
     ]
    }
   ],
   "source": [
    "pipeline = [ {\"$group\": { \"_id\": \"$importer\", \"count\":{\"$sum\": 1}}}, \n",
    "             {\"$sort\": {\"count\":-1}} ]\n",
    "for entity in Entities.aggregate(pipeline):\n",
    "    print \"%s (%i)\" % (entity['_id'], entity['count'])"
   ]
  },
  {
   "cell_type": "markdown",
   "metadata": {},
   "source": [
    "# Organisationen\n",
    "__Beispiel Organisation__"
   ]
  },
  {
   "cell_type": "code",
   "execution_count": 7,
   "metadata": {
    "collapsed": false
   },
   "outputs": [
    {
     "data": {
      "text/plain": [
       "{u'_id': ObjectId('54d50d2fd2257f9a581e2c32'),\n",
       " u'aliases': [],\n",
       " u'created': datetime.datetime(2015, 2, 6, 18, 51, 27, 527000),\n",
       " u'data': [],\n",
       " u'importer': None,\n",
       " u'name': u'SPD Vorpommern',\n",
       " u'search': [u'spd vorpommern'],\n",
       " u'slug': u'spd vorpommern',\n",
       " u'tags': [u'spd'],\n",
       " u'type': u'entity',\n",
       " u'updated': datetime.datetime(2015, 2, 19, 17, 43, 54, 49000)}"
      ]
     },
     "execution_count": 7,
     "metadata": {},
     "output_type": "execute_result"
    }
   ],
   "source": [
    "entities = Entities.find({'type' : 'entity'})\n",
    "entities.next()"
   ]
  },
  {
   "cell_type": "markdown",
   "metadata": {},
   "source": [
    "__ Datentypen für Organisationen __"
   ]
  },
  {
   "cell_type": "markdown",
   "metadata": {},
   "source": [
    "- source/Quelle => dc:source\n",
    "- address/Adresse => vcard:ADR\n",
    "- description/Beschreibung => dc:description\n",
    "* members/Anzahl der Mitglieder (2118)\n",
    "* organisations/Anzahl der Mitgliedsorganisationen (953)\n",
    "- topic/Thema => foaf:topic\n",
    "* url/URL (199)\n",
    "* finance/Finanzierung (151)\n",
    "* staff/Anzahl der Mitarbeiter (126)\n",
    "* legalform/Rechtsform (28)\n",
    "- link/Link => vcard:RELATED\n",
    "* partei/Partei => org:Organization => own:Party\n",
    "* begin/Von (5) => dc:data => own:from\n",
    "* end/Bis (4) => dc:date => own:to\n",
    "- www/Webseite => foaf:homepage"
   ]
  },
  {
   "cell_type": "code",
   "execution_count": 8,
   "metadata": {
    "collapsed": false
   },
   "outputs": [
    {
     "name": "stdout",
     "output_type": "stream",
     "text": [
      "source/Quelle (7495)\n",
      "address/Adresse (6547)\n",
      "description/Beschreibungstext (2370)\n",
      "members/Anzahl der Mitglieder (2118)\n",
      "organisations/Anzahl der Mitgliedsorganisationen (953)\n",
      "topic/Thema (684)\n",
      "url/URL (199)\n",
      "finance/Finanzierung (151)\n",
      "staff/Anzahl der Mitarbeiter (126)\n",
      "legalform/Rechtsform (28)\n",
      "link/Link (28)\n",
      "verified/Verifiziert (26)\n",
      "displayname/Anzeigename (24)\n",
      "partei/Partei (20)\n",
      "begin/Von (5)\n",
      "end/Bis (4)\n",
      "description/Beschreibung (3)\n",
      "www/Webseite (2)\n"
     ]
    }
   ],
   "source": [
    "pipeline = [ {\"$match\" : { \"type\" : \"entity\" }}, \n",
    "             {\"$unwind\": \"$data\"}, \n",
    "             {\"$group\": { \"_id\": { \"$concat\": [ \"$data.key\", \"/\", \"$data.desc\"]}, \"count\":{\"$sum\": 1}}}, \n",
    "             {\"$sort\": {\"count\":-1}} ]\n",
    "for entity in Entities.aggregate(pipeline):\n",
    "    print \"%s (%i)\" % (entity['_id'], entity['count'])"
   ]
  },
  {
   "cell_type": "markdown",
   "metadata": {},
   "source": [
    "# Personen\n",
    "__ Beispiel Person __"
   ]
  },
  {
   "cell_type": "code",
   "execution_count": 26,
   "metadata": {
    "collapsed": false
   },
   "outputs": [
    {
     "data": {
      "text/plain": [
       "{u'_id': ObjectId('552ff9cdaf9ee96e1c1df7c5'),\n",
       " u'aliases': [u'Bundeskanzleramt'],\n",
       " u'created': datetime.datetime(2015, 4, 16, 18, 5, 0, 25000),\n",
       " u'data': [{u'auto': True,\n",
       "   u'created': datetime.datetime(2015, 4, 16, 18, 5, 2, 136000),\n",
       "   u'desc': u'Quelle',\n",
       "   u'format': u'link',\n",
       "   u'id': u'868b0075130ff4b99d8c9681e9d3f69decb42891fcf5e607f3a6434c7e734a1a',\n",
       "   u'key': u'source',\n",
       "   u'updated': datetime.datetime(2015, 4, 16, 18, 5, 2, 136000),\n",
       "   u'value': {u'remark': u'created by seitenwechsler importer',\n",
       "    u'url': u'https://lobbypedia.de/wiki/Seitenwechsler_in_Deutschland_im_%C3%9Cberblick'}}],\n",
       " u'importer': u'seitenwechsler',\n",
       " u'name': u'Bundeskanzleramt',\n",
       " u'search': [u'bundeskanzleramt'],\n",
       " u'slug': u'bundeskanzleramt',\n",
       " u'tags': [u'seitenwechsler', u'spd', u'cdu'],\n",
       " u'type': u'entity',\n",
       " u'updated': datetime.datetime(2015, 4, 16, 18, 5, 5, 664000)}"
      ]
     },
     "execution_count": 26,
     "metadata": {},
     "output_type": "execute_result"
    }
   ],
   "source": [
    "persons = Entities.find({'_id' : ObjectId('552ff9cdaf9ee96e1c1df7c5')})\n",
    "persons.next()"
   ]
  },
  {
   "cell_type": "markdown",
   "metadata": {},
   "source": [
    "__Datentypen für Personen__"
   ]
  },
  {
   "cell_type": "markdown",
   "metadata": {},
   "source": [
    "- source/Quelle => dc:source\n",
    "- titles/Titel => dc:title\n",
    "- address/Adresse => vcard:ADR\n",
    "- link/Link => vcard:RELATED\n",
    "- surname/Nachname foaf:familyName\n",
    "- names/Vornamen foaf:givenName\n",
    "- photo/Foto => foaf:Image\n",
    "* bundesland/Bundesland (629) \n",
    "* btcertuid/Benutzename BT-Cert (608)\n",
    "* wahlkreis/Wahlkreis (524)\n",
    "* landesliste/Landesliste (194) -> container with vcard:country ?\n",
    "* partei/Partei (109)\n",
    "- description/Beschreibung => dc:description\n",
    "* url/URL (6)\n",
    "- title/Titel => dc:title\n",
    "* listenplatz/Listenplatz (1)\n",
    "- www/Webseite => foaf:homepage"
   ]
  },
  {
   "cell_type": "code",
   "execution_count": 10,
   "metadata": {
    "collapsed": false
   },
   "outputs": [
    {
     "name": "stdout",
     "output_type": "stream",
     "text": [
      "source/Quelle (20338)\n",
      "titles/Titel (14560)\n",
      "address/Adresse (6165)\n",
      "link/Link (5399)\n",
      "surname/Nachname (3444)\n",
      "names/Vornamen (3442)\n",
      "photo/Foto (2433)\n",
      "bundesland/Bundesland (629)\n",
      "btcertuid/Benutzename BT-Cert (608)\n",
      "wahlkreis/Wahlkreis (524)\n",
      "landesliste/Landesliste (194)\n",
      "partei/Partei (109)\n",
      "verified/Verifiziert (22)\n",
      "displayname/Anzeigename (20)\n",
      "description/Beschreibung (10)\n",
      "url/URL (6)\n",
      "title/Titel (5)\n",
      "listenplatz/Listenplatz (1)\n",
      "www/Webseite (1)\n"
     ]
    }
   ],
   "source": [
    "pipeline = [ {\"$match\" : { \"type\" : \"person\" }}, \n",
    "             {\"$unwind\": \"$data\"}, \n",
    "             {\"$group\": { \"_id\": { \"$concat\": [ \"$data.key\", \"/\", \"$data.desc\"]}, \"count\":{\"$sum\": 1}}}, \n",
    "             {\"$sort\": {\"count\":-1}} ]\n",
    "for entity in Entities.aggregate(pipeline):\n",
    "    print \"%s (%i)\" % (entity['_id'], entity['count'])"
   ]
  },
  {
   "cell_type": "markdown",
   "metadata": {},
   "source": [
    "# Relations"
   ]
  },
  {
   "cell_type": "markdown",
   "metadata": {},
   "source": [
    "- Mitglied/member/mitglied => org:member\n",
    "- executive => org:roleProperty => own:executiveOf (used with org:memberOf)"
   ]
  },
  {
   "cell_type": "code",
   "execution_count": 27,
   "metadata": {
    "collapsed": false,
    "scrolled": true
   },
   "outputs": [
    {
     "name": "stdout",
     "output_type": "stream",
     "text": [
      " (26)\n",
      "Anteilseigentümer (2)\n",
      "Hundertprozentige Tochtergesellschaft der Bertelsmann-Gruppe (1)\n",
      "Untersteht dem Bundeskanzleramt (1)\n",
      "Die Bundeswehr untersteht dem Bundesminister der Verteidigung (1)\n",
      "Swiss Life Select Deutschland GmbH ist hervorgegangen aus dem AWD (1)\n",
      "Medienholding der SPD (1)\n",
      "Tochtergesellschaft der Nürnberger Versicherungsgruppe (1)\n",
      "Tochterunternehmen von Omnicom (1)\n",
      "Tochtergesellschaft (1)\n",
      "Tochtergesellschaft der Deutschen Post (1)\n",
      "Die Schott AG ist zu 100% in die ADLT-Gruppe eingegliedert (1)\n",
      "Tochterunternehmen (1)\n"
     ]
    }
   ],
   "source": [
    "pipeline = [ {\"$unwind\": \"$data\"},\n",
    "             {\"$match\" : {\n",
    "                \"data.key\" : \"position\",\n",
    "                \"type\" : \"subsidiary\"\n",
    "             }},\n",
    "             {\"$group\": { \"_id\": \"$data.value\", \"count\":{\"$sum\": 1}}}, \n",
    "             {\"$sort\": {\"count\":-1}} ]\n",
    "for entity in Relations.aggregate(pipeline):\n",
    "    print \"%s (%i)\" % (entity['_id'], entity['count'])"
   ]
  },
  {
   "cell_type": "code",
   "execution_count": 104,
   "metadata": {
    "collapsed": false
   },
   "outputs": [
    {
     "name": "stdout",
     "output_type": "stream",
     "text": [
      "executive (17018)\n",
      "member (4291)\n",
      "donation (3820)\n",
      "activity (2664)\n",
      "business (1454)\n",
      "position (1157)\n",
      "government (580)\n",
      "Mitglied (169)\n",
      "association (64)\n",
      "subsidiary (39)\n",
      "Position (27)\n",
      "committee (26)\n",
      "Hausausweise (19)\n",
      "mitglied (16)\n",
      "consulting (5)\n",
      "Tochterfirma (4)\n",
      "sponsoring (3)\n",
      "subisdiary (2)\n",
      "ececutive (2)\n",
      "Bundesdatenschutzbeauftragte (1)\n",
      "Vorsitzender (1)\n",
      "lobbyist (1)\n",
      "publication (1)\n"
     ]
    }
   ],
   "source": [
    "pipeline = [ {\"$group\": { \"_id\": \"$type\", \"count\":{\"$sum\": 1}}}, \n",
    "             {\"$sort\": {\"count\":-1}} ]\n",
    "for rel in Relations.aggregate(pipeline):\n",
    "    print \"%s (%i)\" % (rel['_id'], rel['count'])"
   ]
  },
  {
   "cell_type": "code",
   "execution_count": 31,
   "metadata": {
    "collapsed": false
   },
   "outputs": [],
   "source": [
    "relations = Relations.find({'type' : 'government'})"
   ]
  },
  {
   "cell_type": "code",
   "execution_count": 34,
   "metadata": {
    "collapsed": false
   },
   "outputs": [
    {
     "data": {
      "text/plain": [
       "{u'_id': ObjectId('5501cb466e8aab706857b0c1'),\n",
       " u'created': datetime.datetime(2015, 3, 12, 17, 22, 14, 11000),\n",
       " u'data': [{u'auto': True,\n",
       "   u'created': datetime.datetime(2015, 3, 12, 17, 22, 14, 11000),\n",
       "   u'desc': u'Position',\n",
       "   u'format': u'string',\n",
       "   u'id': u'fab2cb74049249ba75a1f0f7cb0243f03b057aca062352fd1e2d7a4d46c8e5be',\n",
       "   u'key': u'position',\n",
       "   u'updated': datetime.datetime(2015, 3, 12, 17, 22, 14, 11000),\n",
       "   u'value': u'Staatsminister'},\n",
       "  {u'auto': True,\n",
       "   u'created': datetime.datetime(2015, 3, 12, 17, 22, 14, 11000),\n",
       "   u'desc': u'Von',\n",
       "   u'format': u'date',\n",
       "   u'id': u'29d902a134d370c73438c68c72fe96222ee4bb6436239b18239245e1f4da6438',\n",
       "   u'key': u'begin',\n",
       "   u'updated': datetime.datetime(2015, 3, 12, 17, 22, 14, 11000),\n",
       "   u'value': datetime.datetime(2013, 12, 16, 23, 0)}],\n",
       " u'entities': [ObjectId('54c71e92349d25992bca523c'),\n",
       "  ObjectId('552ff9cdaf9ee96e1c1df7c5')],\n",
       " u'importer': u'kabinette',\n",
       " u'tags': [u'kabinette'],\n",
       " u'type': u'government',\n",
       " u'updated': datetime.datetime(2015, 3, 12, 17, 22, 14, 11000),\n",
       " u'weight': 1}"
      ]
     },
     "execution_count": 34,
     "metadata": {},
     "output_type": "execute_result"
    }
   ],
   "source": [
    "relations.next()"
   ]
  },
  {
   "cell_type": "markdown",
   "metadata": {},
   "source": [
    "- "
   ]
  },
  {
   "cell_type": "markdown",
   "metadata": {},
   "source": [
    "- source/Quelle => dc:source\n",
    "- position/Position => skos:Role"
   ]
  },
  {
   "cell_type": "code",
   "execution_count": 101,
   "metadata": {
    "collapsed": false
   },
   "outputs": [
    {
     "name": "stdout",
     "output_type": "stream",
     "text": [
      "source/Quelle (25018)\n",
      "donation/Parteispende (9691)\n",
      "position/Position (2735)\n",
      "activity/Angaben zur Nebentätigkeit (2690)\n",
      "position/Funktion im Ausschuss (2014)\n",
      "begin/Von (622)\n",
      "end/Ende (308)\n",
      "end/Bis (247)\n",
      "begin/Beginn (173)\n",
      "start/Beginn (141)\n",
      "issued/Ausgestellt von (18)\n"
     ]
    }
   ],
   "source": [
    "pipeline = [ {\"$unwind\": \"$data\"}, \n",
    "             {\"$group\": { \"_id\": { \"$concat\": [ \"$data.key\", \"/\", \"$data.desc\"]}, \"count\":{\"$sum\": 1}}}, \n",
    "             {\"$sort\": {\"count\":-1}} ]\n",
    "for rel in Relations.aggregate(pipeline):\n",
    "    print \"%s (%i)\" % (rel['_id'], rel['count'])"
   ]
  },
  {
   "cell_type": "code",
   "execution_count": 54,
   "metadata": {
    "collapsed": false
   },
   "outputs": [],
   "source": [
    "from rdflib import Namespace, BNode, Literal\n",
    "from rdflib.namespace import FOAF"
   ]
  },
  {
   "cell_type": "code",
   "execution_count": 55,
   "metadata": {
    "collapsed": false
   },
   "outputs": [
    {
     "data": {
      "text/plain": [
       "<Graph identifier=N91971e16ba084f0fbd8de4c31256c59b (<class 'rdflib.graph.Graph'>)>"
      ]
     },
     "execution_count": 55,
     "metadata": {},
     "output_type": "execute_result"
    }
   ],
   "source": [
    "g = rdflib.Graph()\n",
    "g.parse('ontology.ttl', format='turtle')"
   ]
  },
  {
   "cell_type": "code",
   "execution_count": 56,
   "metadata": {
    "collapsed": false
   },
   "outputs": [],
   "source": [
    "node = BNode()"
   ]
  },
  {
   "cell_type": "code",
   "execution_count": 57,
   "metadata": {
    "collapsed": false
   },
   "outputs": [
    {
     "data": {
      "text/plain": [
       "rdflib.term.URIRef(u'http://xmlns.com/foaf/0.1/Person')"
      ]
     },
     "execution_count": 57,
     "metadata": {},
     "output_type": "execute_result"
    }
   ],
   "source": [
    "FOAF.Person"
   ]
  },
  {
   "cell_type": "code",
   "execution_count": 58,
   "metadata": {
    "collapsed": true
   },
   "outputs": [],
   "source": [
    "exampleorg = Namespace('http://example.org/')"
   ]
  },
  {
   "cell_type": "code",
   "execution_count": 59,
   "metadata": {
    "collapsed": false
   },
   "outputs": [
    {
     "data": {
      "text/plain": [
       "rdflib.term.URIRef(u'http://example.org/Party')"
      ]
     },
     "execution_count": 59,
     "metadata": {},
     "output_type": "execute_result"
    }
   ],
   "source": [
    "exampleorg.Party"
   ]
  },
  {
   "cell_type": "code",
   "execution_count": 60,
   "metadata": {
    "collapsed": true
   },
   "outputs": [],
   "source": [
    "g.add((node, exampleorg.Party, Literal('Die Linke')))"
   ]
  },
  {
   "cell_type": "code",
   "execution_count": 61,
   "metadata": {
    "collapsed": false
   },
   "outputs": [
    {
     "name": "stdout",
     "output_type": "stream",
     "text": [
      "@prefix : <http://example.org/> .\n",
      "@prefix dc: <http://purl.org/dc/elements/1.1/> .\n",
      "@prefix dcam: <http://purl.org/dc/dcam/> .\n",
      "@prefix foaf: <http://xmlns.com/foaf/0.1/> .\n",
      "@prefix org: <http://www.w3.org/ns/org#> .\n",
      "@prefix rdf: <http://www.w3.org/1999/02/22-rdf-syntax-ns#> .\n",
      "@prefix rdfs: <http://www.w3.org/2000/01/rdf-schema#> .\n",
      "@prefix vcard: <http://www.w3.org/2006/vcard/ns#> .\n",
      "@prefix xml: <http://www.w3.org/XML/1998/namespace> .\n",
      "@prefix xsd: <http://www.w3.org/2001/XMLSchema#> .\n",
      "\n",
      ":Address a rdfs:Class ;\n",
      "    rdfs:subClassOf vcard:ADR .\n",
      "\n",
      ":Description a rdfs:Class ;\n",
      "    rdfs:subClassOf dc:description .\n",
      "\n",
      ":From a rdfs:Class ;\n",
      "    rdfs:subClassOf dc:date .\n",
      "\n",
      ":Homepage a rdfs:Class ;\n",
      "    rdfs:subClassOf foaf:homepage .\n",
      "\n",
      ":LegalForm a rdfs:Class .\n",
      "\n",
      ":Lobbyist a rdfs:Class ;\n",
      "    rdfs:subClassOf foaf:Person .\n",
      "\n",
      ":Party a rdfs:Class ;\n",
      "    rdfs:subClassOf org:Organization .\n",
      "\n",
      ":Photo a rdfs:Class ;\n",
      "    rdfs:subClassOf foaf:Image .\n",
      "\n",
      ":Politician a rdfs:Class ;\n",
      "    rdfs:subClassOf foaf:Person .\n",
      "\n",
      ":Source a rdfs:Class ;\n",
      "    rdfs:subClassOf dc:source .\n",
      "\n",
      ":Title a rdfs:Class ;\n",
      "    rdfs:subClassOf dc:title .\n",
      "\n",
      ":To a rdfs:Class ;\n",
      "    rdfs:subClassOf dc:date .\n",
      "\n",
      ":Topic a rdfs:Class ;\n",
      "    rdfs:subClassOf foaf:topic .\n",
      "\n",
      ":BTCertUID a rdf:Class ;\n",
      "    rdfs:subClassOf foaf:OnlineAccount .\n",
      "\n",
      ":Constituency a rdf:Class ;\n",
      "    rdfs:subClassOf vcard:region .\n",
      "\n",
      ":FederalState a rdf:Class ;\n",
      "    rdfs:subClassOf vcard:locality .\n",
      "\n",
      ":isDonator a rdf:Property ;\n",
      "    rdfs:domain :Party ;\n",
      "    rdfs:range :Person .\n",
      "\n",
      ":isExecutiveOf a rdf:Property ;\n",
      "    rdfs:domain :Party ;\n",
      "    rdfs:range :Politician .\n",
      "\n",
      ":isInBusinessWith a rdf:Property ;\n",
      "    rdfs:domain :Party ;\n",
      "    rdfs:range :Person .\n",
      "\n",
      ":isMemberOf a rdf:Property ;\n",
      "    rdfs:domain :Party ;\n",
      "    rdfs:range :Politician .\n",
      "\n",
      ":isRelatedTo a rdf:Property ;\n",
      "    rdfs:domain rdfs:Class ;\n",
      "    rdfs:range rdfs:Class .\n",
      "\n",
      ":isSubsadiaryOf a rdf:Property ;\n",
      "    rdfs:domain :Party ;\n",
      "    rdfs:range :Party .\n",
      "\n",
      "[] :Party \"Die Linke\" .\n",
      "\n",
      "\n"
     ]
    }
   ],
   "source": [
    "print(g.serialize(format = 'turtle'))"
   ]
  },
  {
   "cell_type": "code",
   "execution_count": null,
   "metadata": {
    "collapsed": true
   },
   "outputs": [],
   "source": [
    "ObjectId"
   ]
  },
  {
   "cell_type": "code",
   "execution_count": null,
   "metadata": {
    "collapsed": true
   },
   "outputs": [],
   "source": []
  }
 ],
 "metadata": {
  "kernelspec": {
   "display_name": "Python 2",
   "language": "python",
   "name": "python2"
  },
  "language_info": {
   "codemirror_mode": {
    "name": "ipython",
    "version": 2
   },
   "file_extension": ".py",
   "mimetype": "text/x-python",
   "name": "python",
   "nbconvert_exporter": "python",
   "pygments_lexer": "ipython2",
   "version": "2.7.10"
  }
 },
 "nbformat": 4,
 "nbformat_minor": 0
}
