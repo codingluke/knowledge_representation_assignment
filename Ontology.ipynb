{
 "metadata": {
  "name": ""
 },
 "nbformat": 3,
 "nbformat_minor": 0,
 "worksheets": [
  {
   "cells": [
    {
     "cell_type": "heading",
     "level": 1,
     "metadata": {},
     "source": [
      "Explore MongoDB"
     ]
    },
    {
     "cell_type": "code",
     "collapsed": false,
     "input": [
      "import pymongo\n",
      "from pymongo import MongoClient\n",
      "from bson.son import SON"
     ],
     "language": "python",
     "metadata": {},
     "outputs": [],
     "prompt_number": 18
    },
    {
     "cell_type": "code",
     "collapsed": false,
     "input": [
      "client = MongoClient()\n",
      "db = client.lobbyradar\n",
      "\n",
      "Entities = db.entities\n",
      "Relations = db.relations\n",
      "\n",
      "person_filter = { 'type' : 'person' }\n",
      "entity_filter = { 'type' : 'entity' }\n",
      "persons = Entities.find(person_filter)\n",
      "entities = Entities.find(entity_filter)"
     ],
     "language": "python",
     "metadata": {},
     "outputs": [],
     "prompt_number": 19
    },
    {
     "cell_type": "markdown",
     "metadata": {},
     "source": [
      "__Entity typen__\n",
      "werden alle zu einem `rdf:Class`"
     ]
    },
    {
     "cell_type": "code",
     "collapsed": false,
     "input": [
      "Entities.distinct('type')"
     ],
     "language": "python",
     "metadata": {},
     "outputs": [
      {
       "metadata": {},
       "output_type": "pyout",
       "prompt_number": 20,
       "text": [
        "[u'entity', u'person']"
       ]
      }
     ],
     "prompt_number": 20
    },
    {
     "cell_type": "markdown",
     "metadata": {},
     "source": [
      "__Ralationship typen__\n",
      "werden alle zu einem `rdf:Property`"
     ]
    },
    {
     "cell_type": "code",
     "collapsed": true,
     "input": [
      "Relations.distinct('type')\n",
      "for row in Relations.distinct('type'):\n",
      "    print row"
     ],
     "language": "python",
     "metadata": {},
     "outputs": [
      {
       "output_type": "stream",
       "stream": "stdout",
       "text": [
        "Bundesdatenschutzbeauftragte\n",
        "Hausausweise\n",
        "Mitglied\n",
        "Position\n",
        "Tochterfirma\n",
        "Vorsitzender\n",
        "activity\n",
        "association\n",
        "business\n",
        "committee\n",
        "consulting\n",
        "donation\n",
        "ececutive\n",
        "executive\n",
        "government\n",
        "lobbyist\n",
        "member\n",
        "mitglied\n",
        "position\n",
        "publication\n",
        "sponsoring\n",
        "subisdiary\n",
        "subsidiary\n"
       ]
      }
     ],
     "prompt_number": 96
    },
    {
     "cell_type": "markdown",
     "metadata": {},
     "source": [
      "__ Importer __"
     ]
    },
    {
     "cell_type": "code",
     "collapsed": false,
     "input": [
      "pipeline = [ {\"$group\": { \"_id\": \"$importer\", \"count\":{\"$sum\": 1}}}, \n",
      "             {\"$sort\": {\"count\":-1}} ]\n",
      "for entity in Entities.aggregate(pipeline):\n",
      "    print \"%s (%i)\" % (entity['_id'], entity['count'])"
     ],
     "language": "python",
     "metadata": {},
     "outputs": [
      {
       "output_type": "stream",
       "stream": "stdout",
       "text": [
        "lobbyliste (16812)\n",
        "parteispenden (2924)\n",
        "bundestag (2057)\n",
        "pr (1778)\n",
        "None (581)\n",
        "dax (543)\n",
        "laender (376)\n",
        "parteispenden13 (315)\n",
        "thinktanks (309)\n",
        "seitenwechsler (222)\n",
        "kabinette (34)\n",
        "parteispenden14 (6)\n",
        "parteien (1)\n"
       ]
      }
     ],
     "prompt_number": 91
    },
    {
     "cell_type": "markdown",
     "metadata": {},
     "source": [
      "# Organisationen\n",
      "__Beispiel Organisation__"
     ]
    },
    {
     "cell_type": "code",
     "collapsed": false,
     "input": [
      "entities = Entities.find({'type' : 'entity'})\n",
      "entities.next()"
     ],
     "language": "python",
     "metadata": {},
     "outputs": [
      {
       "metadata": {},
       "output_type": "pyout",
       "prompt_number": 56,
       "text": [
        "{u'_id': ObjectId('54bd3c748b934da06340f4c1'),\n",
        " u'aliases': [u'DIE LINKE',\n",
        "  u'Die Linke',\n",
        "  u'Partei DIE LINKE',\n",
        "  u'DIE LINKE.',\n",
        "  u'Linkspartei',\n",
        "  u'Linkspartei.PDS',\n",
        "  u'PDS',\n",
        "  u'WASG',\n",
        "  u'Partei des Demokratischen Sozialismus',\n",
        "  u'Arbeit & soziale Gerechtigkeit \\u2013 Die Wahlalternative',\n",
        "  u'Wahlalternative',\n",
        "  u'Wahlalternative Arbeit und soziale Gerechtigkeit'],\n",
        " u'created': datetime.datetime(2015, 1, 19, 17, 18, 44, 807000),\n",
        " u'data': [{u'auto': True,\n",
        "   u'created': datetime.datetime(2015, 5, 28, 18, 11, 9, 657000),\n",
        "   u'desc': u'Partei',\n",
        "   u'format': u'string',\n",
        "   u'id': u'2b1adb60a31d37cf9cc0fdccb75149456a425095c6bf5e77abac117ed1a69d0f',\n",
        "   u'key': u'partei',\n",
        "   u'updated': datetime.datetime(2015, 5, 28, 18, 11, 9, 657000),\n",
        "   u'value': u'Die Linke'},\n",
        "  {u'auto': True,\n",
        "   u'created': datetime.datetime(2015, 1, 19, 17, 18, 44, 808000),\n",
        "   u'desc': u'Adresse',\n",
        "   u'format': u'address',\n",
        "   u'id': u'bb4b34d6b3f916cea2ca09b7cea7842afbec6c9d303c3dc31a5823bda70658bb',\n",
        "   u'key': u'address',\n",
        "   u'updated': datetime.datetime(2015, 1, 19, 17, 18, 44, 808000),\n",
        "   u'value': {u'addr': u'Bundesgesch\\xe4ftsstelle',\n",
        "    u'city': u'Berlin',\n",
        "    u'country': u'Deutschland',\n",
        "    u'email': u'bundesgeschaeftsstelle@die-linke.de',\n",
        "    u'fax': u'+493024009310',\n",
        "    u'name': u'Partei DIE LINKE',\n",
        "    u'postcode': u'10178',\n",
        "    u'street': u'Kleine Alexanderstra\\xdfe 28',\n",
        "    u'tel': u'+493024009397',\n",
        "    u'type': u'main',\n",
        "    u'www': u'http://www.die-linke.de/'}}],\n",
        " u'importer': u'parteien',\n",
        " u'name': u'Die Linke',\n",
        " u'search': [u'die linke',\n",
        "  u'partei die linke',\n",
        "  u'linkspartei',\n",
        "  u'linksparteipds',\n",
        "  u'pds',\n",
        "  u'wasg',\n",
        "  u'partei des demokratischen sozialismus',\n",
        "  u'arbeit and soziale gerechtigkeit die wahlalternative',\n",
        "  u'wahlalternative',\n",
        "  u'wahlalternative arbeit und soziale gerechtigkeit'],\n",
        " u'slug': u'die linke',\n",
        " u'tags': [u'partei', u'linke'],\n",
        " u'type': u'entity',\n",
        " u'updated': datetime.datetime(2015, 5, 28, 18, 11, 12, 646000)}"
       ]
      }
     ],
     "prompt_number": 56
    },
    {
     "cell_type": "markdown",
     "metadata": {},
     "source": [
      "__ Datentypen f\u00fcr Organisationen __"
     ]
    },
    {
     "cell_type": "markdown",
     "metadata": {},
     "source": [
      "- source/Quelle => dc:source\n",
      "- address/Adresse => vcard:ADR\n",
      "- description/Beschreibung => dc:description\n",
      "* members/Anzahl der Mitglieder (2118)\n",
      "* organisations/Anzahl der Mitgliedsorganisationen (953)\n",
      "- topic/Thema => foaf:topic\n",
      "* url/URL (199)\n",
      "* finance/Finanzierung (151)\n",
      "* staff/Anzahl der Mitarbeiter (126)\n",
      "* legalform/Rechtsform (28)\n",
      "- link/Link => vcard:RELATED\n",
      "* partei/Partei => org:Organization => own:Party\n",
      "* begin/Von (5) => dc:data => own:from\n",
      "* end/Bis (4) => dc:date => own:to\n",
      "- www/Webseite => foaf:homepage"
     ]
    },
    {
     "cell_type": "code",
     "collapsed": false,
     "input": [
      "pipeline = [ {\"$match\" : { \"type\" : \"entity\" }}, \n",
      "             {\"$unwind\": \"$data\"}, \n",
      "             {\"$group\": { \"_id\": { \"$concat\": [ \"$data.key\", \"/\", \"$data.desc\"]}, \"count\":{\"$sum\": 1}}}, \n",
      "             {\"$sort\": {\"count\":-1}} ]\n",
      "for entity in Entities.aggregate(pipeline):\n",
      "    print \"%s (%i)\" % (entity['_id'], entity['count'])"
     ],
     "language": "python",
     "metadata": {},
     "outputs": [
      {
       "output_type": "stream",
       "stream": "stdout",
       "text": [
        "source/Quelle (7497)\n",
        "address/Adresse (6547)\n",
        "description/Beschreibungstext (2370)\n",
        "members/Anzahl der Mitglieder (2118)\n",
        "organisations/Anzahl der Mitgliedsorganisationen (953)\n",
        "topic/Thema (684)\n",
        "url/URL (199)\n",
        "finance/Finanzierung (151)\n",
        "staff/Anzahl der Mitarbeiter (126)\n",
        "legalform/Rechtsform (28)\n",
        "link/Link (28)\n",
        "partei/Partei (20)\n",
        "begin/Von (5)\n",
        "end/Bis (4)\n",
        "description/Beschreibung (3)\n",
        "www/Webseite (2)\n"
       ]
      }
     ],
     "prompt_number": 90
    },
    {
     "cell_type": "markdown",
     "metadata": {},
     "source": [
      "# Personen\n",
      "__ Beispiel Person __"
     ]
    },
    {
     "cell_type": "code",
     "collapsed": false,
     "input": [
      "persons = Entities.find({'type' : 'person'})\n",
      "persons.next()"
     ],
     "language": "python",
     "metadata": {},
     "outputs": [
      {
       "metadata": {},
       "output_type": "pyout",
       "prompt_number": 97,
       "text": [
        "{u'_id': ObjectId('54bd3c768b934da06340f4c6'),\n",
        " u'aliases': [],\n",
        " u'created': datetime.datetime(2015, 1, 19, 17, 18, 46, 529000),\n",
        " u'data': [{u'auto': True,\n",
        "   u'created': datetime.datetime(2015, 1, 19, 17, 19, 9, 420000),\n",
        "   u'desc': u'Quelle',\n",
        "   u'format': u'link',\n",
        "   u'id': u'3dc1416e38deac59076cd3f0d4e1235de79cb530207d06c28053134cc8aa7732',\n",
        "   u'key': u'source',\n",
        "   u'updated': datetime.datetime(2015, 1, 19, 17, 19, 9, 420000),\n",
        "   u'value': {u'remark': u'created by lobbyliste importer',\n",
        "    u'url': u'http://bundestag.de/blob/189476/8989cc5f5f65426215d7e0233704b20a/lobbylisteaktuell-data.pdf'}},\n",
        "  {u'auto': True,\n",
        "   u'created': datetime.datetime(2015, 1, 19, 17, 19, 9, 420000),\n",
        "   u'desc': u'Titel',\n",
        "   u'format': u'string',\n",
        "   u'id': u'65873d29bd0ab6af91ef341689d28f4f0658cc851494a0ef34cfd07dd0cf5d42',\n",
        "   u'key': u'titles',\n",
        "   u'updated': datetime.datetime(2015, 1, 19, 17, 19, 9, 420000),\n",
        "   u'value': u'Gesch\\xe4ftsf\\xfchrer'},\n",
        "  {u'auto': True,\n",
        "   u'created': datetime.datetime(2015, 1, 19, 17, 18, 46, 529000),\n",
        "   u'desc': u'Titel',\n",
        "   u'format': u'string',\n",
        "   u'id': u'1c98f43f0787b6dfcad25c38849ef3895bd26624a79c8fa9e6203c360d120fad',\n",
        "   u'key': u'titles',\n",
        "   u'updated': datetime.datetime(2015, 1, 19, 17, 18, 46, 529000),\n",
        "   u'value': u'2. Vorsitzender'}],\n",
        " u'importer': u'lobbyliste',\n",
        " u'name': u'Markus Hoymann',\n",
        " u'search': [u'markus hoymann'],\n",
        " u'slug': u'markus hoymann',\n",
        " u'tags': [u'lobbyist', u'lobbyismus', u'executive'],\n",
        " u'type': u'person',\n",
        " u'updated': datetime.datetime(2015, 1, 19, 17, 19, 9, 426000)}"
       ]
      }
     ],
     "prompt_number": 97
    },
    {
     "cell_type": "markdown",
     "metadata": {},
     "source": [
      "__Datentypen f\u00fcr Personen__"
     ]
    },
    {
     "cell_type": "markdown",
     "metadata": {},
     "source": [
      "- source/Quelle => dc:source\n",
      "- titles/Titel => dc:title\n",
      "- address/Adresse => vcard:ADR\n",
      "- link/Link => vcard:RELATED\n",
      "- surname/Nachname foaf:familyName\n",
      "- names/Vornamen foaf:givenName\n",
      "- photo/Foto => foaf:Image\n",
      "* bundesland/Bundesland (629)\n",
      "* btcertuid/Benutzename BT-Cert (608)\n",
      "* wahlkreis/Wahlkreis (524)\n",
      "* landesliste/Landesliste (194)\n",
      "* partei/Partei (109)\n",
      "- description/Beschreibung => dc:description\n",
      "* url/URL (6)\n",
      "- title/Titel => dc:title\n",
      "* listenplatz/Listenplatz (1)\n",
      "- www/Webseite => foaf:homepage"
     ]
    },
    {
     "cell_type": "code",
     "collapsed": false,
     "input": [
      "pipeline = [ {\"$match\" : { \"type\" : \"person\" }}, \n",
      "             {\"$unwind\": \"$data\"}, \n",
      "             {\"$group\": { \"_id\": { \"$concat\": [ \"$data.key\", \"/\", \"$data.desc\"]}, \"count\":{\"$sum\": 1}}}, \n",
      "             {\"$sort\": {\"count\":-1}} ]\n",
      "for entity in Entities.aggregate(pipeline):\n",
      "    print \"%s (%i)\" % (entity['_id'], entity['count'])"
     ],
     "language": "python",
     "metadata": {},
     "outputs": [
      {
       "output_type": "stream",
       "stream": "stdout",
       "text": [
        "source/Quelle (20339)\n",
        "titles/Titel (14558)\n",
        "address/Adresse (6165)\n",
        "link/Link (5399)\n",
        "surname/Nachname (3445)\n",
        "names/Vornamen (3442)\n",
        "photo/Foto (2433)\n",
        "bundesland/Bundesland (629)\n",
        "btcertuid/Benutzename BT-Cert (608)\n",
        "wahlkreis/Wahlkreis (524)\n",
        "landesliste/Landesliste (194)\n",
        "partei/Partei (109)\n",
        "description/Beschreibung (10)\n",
        "url/URL (6)\n",
        "title/Titel (5)\n",
        "listenplatz/Listenplatz (1)\n",
        "www/Webseite (1)\n"
       ]
      }
     ],
     "prompt_number": 98
    },
    {
     "cell_type": "heading",
     "level": 1,
     "metadata": {},
     "source": [
      "Relationships"
     ]
    },
    {
     "cell_type": "markdown",
     "metadata": {},
     "source": [
      "- Mitglied/member/mitglied => org:member\n",
      "- executive => org:roleProperty => own:executiveOf (used with org:memberOf)"
     ]
    },
    {
     "cell_type": "code",
     "collapsed": false,
     "input": [
      "pipeline = [ {\"$group\": { \"_id\": \"$type\", \"count\":{\"$sum\": 1}}}, \n",
      "             {\"$sort\": {\"count\":-1}} ]\n",
      "for rel in Relations.aggregate(pipeline):\n",
      "    print \"%s (%i)\" % (rel['_id'], rel['count'])"
     ],
     "language": "python",
     "metadata": {},
     "outputs": [
      {
       "output_type": "stream",
       "stream": "stdout",
       "text": [
        "executive (17018)\n",
        "member (4291)\n",
        "donation (3820)\n",
        "activity (2664)\n",
        "business (1454)\n",
        "position (1157)\n",
        "government (580)\n",
        "Mitglied (169)\n",
        "association (64)\n",
        "subsidiary (39)\n",
        "Position (27)\n",
        "committee (26)\n",
        "Hausausweise (19)\n",
        "mitglied (16)\n",
        "consulting (5)\n",
        "Tochterfirma (4)\n",
        "sponsoring (3)\n",
        "subisdiary (2)\n",
        "ececutive (2)\n",
        "Bundesdatenschutzbeauftragte (1)\n",
        "Vorsitzender (1)\n",
        "lobbyist (1)\n",
        "publication (1)\n"
       ]
      }
     ],
     "prompt_number": 104
    },
    {
     "cell_type": "code",
     "collapsed": false,
     "input": [
      "relations = Relations.find({})"
     ],
     "language": "python",
     "metadata": {},
     "outputs": [],
     "prompt_number": 99
    },
    {
     "cell_type": "code",
     "collapsed": false,
     "input": [
      "relations.next()"
     ],
     "language": "python",
     "metadata": {},
     "outputs": [
      {
       "metadata": {},
       "output_type": "pyout",
       "prompt_number": 100,
       "text": [
        "{u'_id': ObjectId('54bd3c968b934da063413717'),\n",
        " u'created': datetime.datetime(2015, 1, 19, 17, 19, 18, 521000),\n",
        " u'data': [{u'auto': True,\n",
        "   u'created': datetime.datetime(2015, 1, 19, 17, 18, 46, 529000),\n",
        "   u'desc': u'Quelle',\n",
        "   u'format': u'link',\n",
        "   u'id': u'f540a4a1c55e37d25c011e49c9e896f111904b5fb62affdbabfc270257e8b23c',\n",
        "   u'key': u'source',\n",
        "   u'updated': datetime.datetime(2015, 1, 19, 17, 18, 46, 529000),\n",
        "   u'value': {u'remark': u'created by lobbyliste importer',\n",
        "    u'url': u'http://bundestag.de/blob/189476/8989cc5f5f65426215d7e0233704b20a/lobbylisteaktuell-data.pdf'}}],\n",
        " u'entities': [ObjectId('54bd3c768b934da06340f4c5'),\n",
        "  ObjectId('54bd3c768b934da06340f4c7')],\n",
        " u'importer': u'lobbyliste',\n",
        " u'tags': [],\n",
        " u'type': u'executive',\n",
        " u'updated': datetime.datetime(2015, 1, 19, 17, 19, 18, 521000),\n",
        " u'weight': 1}"
       ]
      }
     ],
     "prompt_number": 100
    },
    {
     "cell_type": "markdown",
     "metadata": {},
     "source": [
      "- "
     ]
    },
    {
     "cell_type": "markdown",
     "metadata": {},
     "source": [
      "- source/Quelle => dc:source\n",
      "- position/Position => skos:Role"
     ]
    },
    {
     "cell_type": "code",
     "collapsed": false,
     "input": [
      "pipeline = [ {\"$unwind\": \"$data\"}, \n",
      "             {\"$group\": { \"_id\": { \"$concat\": [ \"$data.key\", \"/\", \"$data.desc\"]}, \"count\":{\"$sum\": 1}}}, \n",
      "             {\"$sort\": {\"count\":-1}} ]\n",
      "for rel in Relations.aggregate(pipeline):\n",
      "    print \"%s (%i)\" % (rel['_id'], rel['count'])"
     ],
     "language": "python",
     "metadata": {},
     "outputs": [
      {
       "output_type": "stream",
       "stream": "stdout",
       "text": [
        "source/Quelle (25018)\n",
        "donation/Parteispende (9691)\n",
        "position/Position (2735)\n",
        "activity/Angaben zur Nebent\u00e4tigkeit (2690)\n",
        "position/Funktion im Ausschuss (2014)\n",
        "begin/Von (622)\n",
        "end/Ende (308)\n",
        "end/Bis (247)\n",
        "begin/Beginn (173)\n",
        "start/Beginn (141)\n",
        "issued/Ausgestellt von (18)\n"
       ]
      }
     ],
     "prompt_number": 101
    },
    {
     "cell_type": "code",
     "collapsed": false,
     "input": [],
     "language": "python",
     "metadata": {},
     "outputs": []
    }
   ],
   "metadata": {}
  }
 ]
}